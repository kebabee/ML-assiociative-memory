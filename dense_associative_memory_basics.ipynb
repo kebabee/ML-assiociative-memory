{
  "nbformat": 4,
  "nbformat_minor": 0,
  "metadata": {
    "colab": {
      "provenance": [],
      "authorship_tag": "ABX9TyOFlsB4mlKw5GpUKetGD5B2",
      "include_colab_link": true
    },
    "kernelspec": {
      "name": "python3",
      "display_name": "Python 3"
    },
    "language_info": {
      "name": "python"
    }
  },
  "cells": [
    {
      "cell_type": "markdown",
      "metadata": {
        "id": "view-in-github",
        "colab_type": "text"
      },
      "source": [
        "<a href=\"https://colab.research.google.com/github/kebabee/ML-assiociative-memory/blob/main/dense_associative_memory_basics.ipynb\" target=\"_parent\"><img src=\"https://colab.research.google.com/assets/colab-badge.svg\" alt=\"Open In Colab\"/></a>"
      ]
    },
    {
      "cell_type": "code",
      "execution_count": 12,
      "metadata": {
        "colab": {
          "base_uri": "https://localhost:8080/"
        },
        "id": "6rZ_S4krSbN3",
        "outputId": "df85e2b4-bd90-4648-b454-0ba593c25441"
      },
      "outputs": [
        {
          "output_type": "stream",
          "name": "stdout",
          "text": [
            "hopfield_header.py downloaded successfully.\n",
            "Letters extraction successful.\n"
          ]
        }
      ],
      "source": [
        "import matplotlib.pyplot as plt\n",
        "import numpy as np\n",
        "import requests\n",
        "import zipfile\n",
        "from io import BytesIO\n",
        "from PIL import Image\n",
        "\n",
        "# Define the URL of the raw hopfield_header.py file\n",
        "hopfield_url = \"https://raw.githubusercontent.com/kebabee/ML-assiociative-memory/bfa215afd00124cf2c32b26aea42381588e75982/hopfield_header.py\"\n",
        "\n",
        "# Download the hopfield_header.py file\n",
        "response = requests.get(hopfield_url)\n",
        "\n",
        "# Check if the request was successful\n",
        "if response.status_code == 200:\n",
        "    # Save the content to hopfield_header.py\n",
        "    with open('hopfield_header.py', 'wb') as f:\n",
        "        f.write(response.content)\n",
        "    print(\"hopfield_header.py downloaded successfully.\")\n",
        "else:\n",
        "    print(\"Failed to download hopfield_header.py.\")\n",
        "\n",
        "# Send a GET request to download the zip file\n",
        "response = requests.get(\"https://github.com/kebabee/ML-assiociative-memory/raw/08eb242de52b29dd9ae769b8bb4af3714a884bab/letters/letters.zip\")\n",
        "\n",
        "# Check if the request was successful\n",
        "if response.status_code == 200:\n",
        "    # Read the content of the zip file\n",
        "    zip_content = BytesIO(response.content)\n",
        "\n",
        "    # Extract the zip file contents\n",
        "    with zipfile.ZipFile(zip_content, 'r') as zip_ref:\n",
        "        # Extract all contents to the 'letters' folder\n",
        "        zip_ref.extractall('letters')\n",
        "    print(\"Letters extraction successful.\")\n",
        "else:\n",
        "    print(\"Failed to download the zip file.\")\n",
        "\n",
        "\n",
        "import hopfield_header as hopf\n",
        "\n",
        "\n",
        "s1 = np.where(np.array(Image.open('letters/?.png'))[:,:,0]<128,1,-1).reshape(-1)\n",
        "s2 = np.where(np.array(Image.open('letters/@.png'))[:,:,0]<128,1,-1).reshape(-1)\n",
        "s3 = np.where(np.array(Image.open('letters/&.png'))[:,:,0]<128,1,-1).reshape(-1)\n",
        "s4 = np.where(np.array(Image.open('letters/#.png'))[:,:,0]<128,1,-1).reshape(-1)\n",
        "s5 = np.where(np.array(Image.open('letters/%.png'))[:,:,0]<128,1,-1).reshape(-1)\n",
        "s6 = np.where(np.array(Image.open('letters/$.png'))[:,:,0]<128,1,-1).reshape(-1)\n",
        "s7 = np.where(np.array(Image.open('letters/eu.png'))[:,:,0]<128,1,-1).reshape(-1)\n",
        "s8 = np.where(np.array(Image.open('letters/inf.png'))[:,:,0]<128,1,-1).reshape(-1)\n",
        "s9 = np.where(np.array(Image.open('letters/pi.png'))[:,:,0]<128,1,-1).reshape(-1)\n",
        "s10 = np.where(np.array(Image.open('letters/ps.png'))[:,:,0]<128,1,-1).reshape(-1)\n",
        "s11 = np.where(np.array(Image.open('letters/se.png'))[:,:,0]<128,1,-1).reshape(-1)\n",
        "s12 = np.where(np.array(Image.open('letters/si.png'))[:,:,0]<128,1,-1).reshape(-1)\n",
        "s13 = np.where(np.array(Image.open('letters/sm.png'))[:,:,0]<128,1,-1).reshape(-1)\n",
        "s14 = np.where(np.array(Image.open('letters/us.png'))[:,:,0]<128,1,-1).reshape(-1)\n",
        "s15 = np.where(np.array(Image.open('letters/al.png'))[:,:,0]<128,1,-1).reshape(-1)\n",
        "\n",
        "n1 = np.where(np.array(Image.open('letters/1.png'))[:,:,0]<128,1,-1).reshape(-1)\n",
        "n2 = np.where(np.array(Image.open('letters/2.png'))[:,:,0]<128,1,-1).reshape(-1)\n",
        "n3 = np.where(np.array(Image.open('letters/3.png'))[:,:,0]<128,1,-1).reshape(-1)\n",
        "n4 = np.where(np.array(Image.open('letters/4.png'))[:,:,0]<128,1,-1).reshape(-1)\n",
        "n5 = np.where(np.array(Image.open('letters/5.png'))[:,:,0]<128,1,-1).reshape(-1)\n",
        "n6 = np.where(np.array(Image.open('letters/6.png'))[:,:,0]<128,1,-1).reshape(-1)\n",
        "n7 = np.where(np.array(Image.open('letters/7.png'))[:,:,0]<128,1,-1).reshape(-1)\n",
        "n8 = np.where(np.array(Image.open('letters/8.png'))[:,:,0]<128,1,-1).reshape(-1)\n",
        "n9 = np.where(np.array(Image.open('letters/9.png'))[:,:,0]<128,1,-1).reshape(-1)\n",
        "\n",
        "A = np.where(np.array(Image.open('letters/A.png'))[:,:,0]<128,1,-1).reshape(-1)\n",
        "B = np.where(np.array(Image.open('letters/B.png'))[:,:,0]<128,1,-1).reshape(-1)\n",
        "C = np.where(np.array(Image.open('letters/C.png'))[:,:,0]<128,1,-1).reshape(-1)\n",
        "D = np.where(np.array(Image.open('letters/D.png'))[:,:,0]<128,1,-1).reshape(-1)\n",
        "E = np.where(np.array(Image.open('letters/E.png'))[:,:,0]<128,1,-1).reshape(-1)\n",
        "F = np.where(np.array(Image.open('letters/F.png'))[:,:,0]<128,1,-1).reshape(-1)\n",
        "G = np.where(np.array(Image.open('letters/G.png'))[:,:,0]<128,1,-1).reshape(-1)\n",
        "H = np.where(np.array(Image.open('letters/H.png'))[:,:,0]<128,1,-1).reshape(-1)\n",
        "I = np.where(np.array(Image.open('letters/I.png'))[:,:,0]<128,1,-1).reshape(-1)\n",
        "J = np.where(np.array(Image.open('letters/J.png'))[:,:,0]<128,1,-1).reshape(-1)\n",
        "K = np.where(np.array(Image.open('letters/K.png'))[:,:,0]<128,1,-1).reshape(-1)\n",
        "L = np.where(np.array(Image.open('letters/L.png'))[:,:,0]<128,1,-1).reshape(-1)\n",
        "M = np.where(np.array(Image.open('letters/M.png'))[:,:,0]<128,1,-1).reshape(-1)\n",
        "N = np.where(np.array(Image.open('letters/N.png'))[:,:,0]<128,1,-1).reshape(-1)\n",
        "O = np.where(np.array(Image.open('letters/O.png'))[:,:,0]<128,1,-1).reshape(-1)\n",
        "P = np.where(np.array(Image.open('letters/P.png'))[:,:,0]<128,1,-1).reshape(-1)\n",
        "Q = np.where(np.array(Image.open('letters/Q.png'))[:,:,0]<128,1,-1).reshape(-1)\n",
        "R = np.where(np.array(Image.open('letters/R.png'))[:,:,0]<128,1,-1).reshape(-1)\n",
        "S = np.where(np.array(Image.open('letters/S.png'))[:,:,0]<128,1,-1).reshape(-1)\n",
        "T = np.where(np.array(Image.open('letters/T.png'))[:,:,0]<128,1,-1).reshape(-1)\n",
        "U = np.where(np.array(Image.open('letters/U.png'))[:,:,0]<128,1,-1).reshape(-1)\n",
        "W = np.where(np.array(Image.open('letters/W.png'))[:,:,0]<128,1,-1).reshape(-1)\n",
        "X = np.where(np.array(Image.open('letters/X.png'))[:,:,0]<128,1,-1).reshape(-1)\n",
        "Y = np.where(np.array(Image.open('letters/Y.png'))[:,:,0]<128,1,-1).reshape(-1)\n",
        "Z = np.where(np.array(Image.open('letters/Z.png'))[:,:,0]<128,1,-1).reshape(-1)\n",
        "\n",
        "letters = [A,B,C,D,E,F,G,H,I,J,K,L,M,N,O,P,Q,R,S,T,U,W,X,Y,Z,n1,n2,n3,n4,n5,n6,n7,n8,n9,s1,s2,s3,s4,s5,s6,s7,s8,s9,s10,s11,s12,s13,s14,s15]\n",
        "\n",
        "noised_data = []\n",
        "noised_data1 = letters.copy()\n",
        "\n",
        "for i in range(len(letters)):\n",
        "    noised_data.append(hopf.noise(letters[i], 40))\n",
        "\n",
        "network1 = hopf.hopfield_net(256)\n",
        "network1.set_patterns(letters)"
      ]
    },
    {
      "cell_type": "markdown",
      "source": [
        "# Basic use of dense associative memory\n",
        "\n",
        "Network patterns:"
      ],
      "metadata": {
        "id": "Sb8YePAAUxmg"
      }
    },
    {
      "cell_type": "code",
      "source": [
        "fig, axes = plt.subplots(7, 7, figsize=(12,12))\n",
        "\n",
        "for i in range(len(network1.patterns)):\n",
        "  row, col = i // 7, i % 7\n",
        "  axes[row, col].imshow(network1.patterns[i].reshape(16, 16), cmap='inferno')\n",
        "  axes[row, col].axis('off')\n",
        "plt.show()"
      ],
      "metadata": {
        "colab": {
          "base_uri": "https://localhost:8080/",
          "height": 961
        },
        "id": "zizqhNgdTUa3",
        "outputId": "5e0c6e35-37cf-4735-ba0f-39e459c6c014"
      },
      "execution_count": 13,
      "outputs": [
        {
          "output_type": "display_data",
          "data": {
            "text/plain": [
              "<Figure size 1200x1200 with 49 Axes>"
            ],
            "image/png": "[encoded data removed]"
          },
          "metadata": {}
        }
      ]
    },
    {
      "cell_type": "markdown",
      "source": [
        "First test dataset:"
      ],
      "metadata": {
        "id": "UFooo0vrU-IZ"
      }
    },
    {
      "cell_type": "code",
      "source": [
        "fig, axes = plt.subplots(7, 7, figsize=(12,12))\n",
        "\n",
        "for i in range(len(noised_data)):\n",
        "  row, col = i // 7, i % 7\n",
        "  axes[row, col].imshow(noised_data[i].reshape(16, 16), cmap='inferno')\n",
        "  axes[row, col].axis('off')\n",
        "plt.show()"
      ],
      "metadata": {
        "colab": {
          "base_uri": "https://localhost:8080/",
          "height": 961
        },
        "id": "6nQMdlHQU7_0",
        "outputId": "ca3ae284-6585-4567-affa-0ee28d9c1013"
      },
      "execution_count": 14,
      "outputs": [
        {
          "output_type": "display_data",
          "data": {
            "text/plain": [
              "<Figure size 1200x1200 with 49 Axes>"
            ],
            "image/png": "[encoded data removed]"
          },
          "metadata": {}
        }
      ]
    },
    {
      "cell_type": "markdown",
      "source": [
        "Model result:"
      ],
      "metadata": {
        "id": "RN-2IPQ9VCTD"
      }
    },
    {
      "cell_type": "code",
      "source": [
        "fig, axes = plt.subplots(7, 7, figsize=(12,12))\n",
        "\n",
        "for i in range(len(noised_data)):\n",
        "  result = network1.dense_mem_test(noised_data[i],20,8)\n",
        "  row, col = i // 7, i % 7\n",
        "  axes[row, col].imshow(result.reshape(16, 16), cmap='inferno')\n",
        "  axes[row, col].axis('off')\n",
        "plt.show()"
      ],
      "metadata": {
        "colab": {
          "base_uri": "https://localhost:8080/",
          "height": 1000
        },
        "id": "KnoDpqP3VCnF",
        "outputId": "2c5e4de9-ef41-48bd-96ee-6fc9a3744359"
      },
      "execution_count": 15,
      "outputs": [
        {
          "output_type": "stream",
          "name": "stdout",
          "text": [
            "Iteration 0, energy: -11.68015479904205\n",
            "Iteration 1, energy: -11.68015479904205\n",
            "Completed in 1 iterations (network stable), error: 0\n",
            "Iteration 0, energy: 6.138096351069034\n",
            "Iteration 1, energy: 6.138096351069034\n",
            "Completed in 1 iterations (network stable), error: 0\n",
            "Iteration 0, energy: -68.37800421093615\n",
            "Iteration 1, energy: -68.37800421093615\n",
            "Completed in 1 iterations (network stable), error: 0\n",
            "Iteration 0, energy: -47.26784718436429\n",
            "Iteration 1, energy: -47.26784718436429\n",
            "Completed in 1 iterations (network stable), error: 0\n",
            "Iteration 0, energy: -87.28492181044759\n",
            "Iteration 1, energy: -87.28492181044759\n",
            "Completed in 1 iterations (network stable), error: 0\n",
            "Iteration 0, energy: -17.632488325552373\n",
            "Iteration 1, energy: -17.632488325552373\n",
            "Completed in 1 iterations (network stable), error: 0\n",
            "Iteration 0, energy: -32.375020833123145\n",
            "Iteration 1, energy: -32.375020833123145\n",
            "Completed in 1 iterations (network stable), error: 0\n",
            "Iteration 0, energy: 134.08824070137268\n",
            "Iteration 1, energy: 134.08824070137268\n",
            "Completed in 1 iterations (network stable), error: 0\n",
            "Iteration 0, energy: 10.40363638330664\n",
            "Iteration 1, energy: 10.40363638330664\n",
            "Completed in 1 iterations (network stable), error: 0\n",
            "Iteration 0, energy: 10.765990352407208\n",
            "Iteration 1, energy: 10.765990352407208\n",
            "Completed in 1 iterations (network stable), error: 0\n",
            "Iteration 0, energy: -43.29487402478821\n",
            "Iteration 1, energy: -43.29487402478821\n",
            "Completed in 1 iterations (network stable), error: 0\n",
            "Iteration 0, energy: -12.848769723139341\n",
            "Iteration 1, energy: -12.848769723139341\n",
            "Completed in 1 iterations (network stable), error: 0\n",
            "Iteration 0, energy: 84.33227033227809\n",
            "Iteration 1, energy: 84.33227033227809\n",
            "Completed in 1 iterations (network stable), error: 0\n",
            "Iteration 0, energy: -19.393617042506346\n",
            "Iteration 1, energy: -19.393617042506346\n",
            "Completed in 1 iterations (network stable), error: 0\n",
            "Iteration 0, energy: -12.717338939726584\n",
            "Iteration 1, energy: -12.717338939726584\n",
            "Completed in 1 iterations (network stable), error: 0\n",
            "Iteration 0, energy: 20.31400389428022\n",
            "Iteration 1, energy: 20.31400389428022\n",
            "Completed in 1 iterations (network stable), error: 0\n",
            "Iteration 0, energy: -47.261049366591486\n",
            "Iteration 1, energy: -47.261049366591486\n",
            "Completed in 1 iterations (network stable), error: 0\n",
            "Iteration 0, energy: 45.172559074251595\n",
            "Iteration 1, energy: 45.172559074251595\n",
            "Completed in 1 iterations (network stable), error: 0\n",
            "Iteration 0, energy: -69.11762830525643\n",
            "Iteration 1, energy: -69.11762830525643\n",
            "Completed in 1 iterations (network stable), error: 0\n",
            "Iteration 0, energy: 95.6438855806293\n",
            "Iteration 1, energy: 95.6438855806293\n",
            "Completed in 1 iterations (network stable), error: 0\n",
            "Iteration 0, energy: 47.99485337795626\n",
            "Iteration 1, energy: 47.99485337795626\n",
            "Completed in 1 iterations (network stable), error: 0\n",
            "Iteration 0, energy: -13.269757271015752\n",
            "Iteration 1, energy: -13.269757271015752\n",
            "Completed in 1 iterations (network stable), error: 0\n",
            "Iteration 0, energy: -165.01209225212546\n",
            "Iteration 1, energy: -165.01209225212546\n",
            "Completed in 1 iterations (network stable), error: 0\n",
            "Iteration 0, energy: 87.68804747472177\n",
            "Iteration 1, energy: 87.68804747472177\n",
            "Completed in 1 iterations (network stable), error: 0\n",
            "Iteration 0, energy: 64.85240872407974\n",
            "Iteration 1, energy: 64.85240872407974\n",
            "Completed in 1 iterations (network stable), error: 0\n",
            "Iteration 0, energy: -58.213206038890576\n",
            "Iteration 1, energy: -58.213206038890576\n",
            "Completed in 1 iterations (network stable), error: 0\n",
            "Iteration 0, energy: 7.538384538009733\n",
            "Iteration 1, energy: 7.538384538009733\n",
            "Completed in 1 iterations (network stable), error: 0\n",
            "Iteration 0, energy: 48.612258900050385\n",
            "Iteration 1, energy: 48.612258900050385\n",
            "Completed in 1 iterations (network stable), error: 0\n",
            "Iteration 0, energy: -186.47308284706773\n",
            "Iteration 1, energy: -186.47308284706773\n",
            "Completed in 1 iterations (network stable), error: 0\n",
            "Iteration 0, energy: 97.97764688585147\n",
            "Iteration 1, energy: 97.97764688585147\n",
            "Completed in 1 iterations (network stable), error: 0\n",
            "Iteration 0, energy: -69.2963480787601\n",
            "Iteration 1, energy: -69.2963480787601\n",
            "Completed in 1 iterations (network stable), error: 0\n",
            "Iteration 0, energy: 36.0368704884145\n",
            "Iteration 1, energy: 36.0368704884145\n",
            "Completed in 1 iterations (network stable), error: 0\n",
            "Iteration 0, energy: -38.36560647449879\n",
            "Iteration 1, energy: -38.36560647449879\n",
            "Completed in 1 iterations (network stable), error: 0\n",
            "Iteration 0, energy: 51.86780162704261\n",
            "Iteration 1, energy: 51.86780162704261\n",
            "Completed in 1 iterations (network stable), error: 0\n",
            "Iteration 0, energy: 2.0534287426781077\n",
            "Iteration 1, energy: 2.0534287426781077\n",
            "Completed in 1 iterations (network stable), error: 0\n",
            "Iteration 0, energy: 9.076010214801887\n",
            "Iteration 1, energy: 9.076010214801887\n",
            "Completed in 1 iterations (network stable), error: 0\n",
            "Iteration 0, energy: -69.63730870327353\n",
            "Iteration 1, energy: -69.63730870327353\n",
            "Completed in 1 iterations (network stable), error: 0\n",
            "Iteration 0, energy: -57.4917975538463\n",
            "Iteration 1, energy: -57.4917975538463\n",
            "Completed in 1 iterations (network stable), error: 0\n",
            "Iteration 0, energy: -161.2574554048046\n",
            "Iteration 1, energy: -161.2574554048046\n",
            "Completed in 1 iterations (network stable), error: 0\n",
            "Iteration 0, energy: 105.27350293218863\n",
            "Iteration 1, energy: 105.27350293218863\n",
            "Completed in 1 iterations (network stable), error: 0\n",
            "Iteration 0, energy: -33.98849152073886\n",
            "Iteration 1, energy: -33.98849152073886\n",
            "Completed in 1 iterations (network stable), error: 0\n",
            "Iteration 0, energy: -74.08306449916836\n",
            "Iteration 1, energy: -74.08306449916836\n",
            "Completed in 1 iterations (network stable), error: 0\n",
            "Iteration 0, energy: 17.517558106538253\n",
            "Iteration 1, energy: 17.517558106538253\n",
            "Completed in 1 iterations (network stable), error: 0\n",
            "Iteration 0, energy: 125.2756306263992\n",
            "Iteration 1, energy: 125.2756306263992\n",
            "Completed in 1 iterations (network stable), error: 0\n",
            "Iteration 0, energy: -46.35259931235592\n",
            "Iteration 1, energy: -46.35259931235592\n",
            "Completed in 1 iterations (network stable), error: 0\n",
            "Iteration 0, energy: 46.275346539204776\n",
            "Iteration 1, energy: 46.275346539204776\n",
            "Completed in 1 iterations (network stable), error: 0\n",
            "Iteration 0, energy: 95.92100277825367\n",
            "Iteration 1, energy: 95.92100277825367\n",
            "Completed in 1 iterations (network stable), error: 0\n",
            "Iteration 0, energy: 116.65861802827715\n",
            "Iteration 1, energy: 116.65861802827715\n",
            "Completed in 1 iterations (network stable), error: 0\n",
            "Iteration 0, energy: -61.1888168280996\n",
            "Iteration 1, energy: -61.1888168280996\n",
            "Completed in 1 iterations (network stable), error: 0\n"
          ]
        },
        {
          "output_type": "display_data",
          "data": {
            "text/plain": [
              "<Figure size 1200x1200 with 49 Axes>"
            ],
            "image/png": "[encoded data removed]"
          },
          "metadata": {}
        }
      ]
    },
    {
      "cell_type": "markdown",
      "source": [
        "Second test dataset:"
      ],
      "metadata": {
        "id": "q6sqop5qVF5d"
      }
    },
    {
      "cell_type": "code",
      "source": [
        "fig, axes = plt.subplots(7, 7, figsize=(12,12))\n",
        "\n",
        "for i in range(len(noised_data1)):\n",
        "  row, col = i // 7, i % 7\n",
        "  axes[row, col].imshow(hopf.cut(noised_data1[i],176).reshape(16, 16), cmap='inferno')\n",
        "  axes[row, col].axis('off')\n",
        "plt.show()"
      ],
      "metadata": {
        "id": "E7UOmd7iVGOi",
        "colab": {
          "base_uri": "https://localhost:8080/",
          "height": 961
        },
        "outputId": "aa693f27-90ba-4683-fc04-b7df0d9798e0"
      },
      "execution_count": 16,
      "outputs": [
        {
          "output_type": "display_data",
          "data": {
            "text/plain": [
              "<Figure size 1200x1200 with 49 Axes>"
            ],
            "image/png": "[encoded data removed]"
          },
          "metadata": {}
        }
      ]
    },
    {
      "cell_type": "markdown",
      "source": [
        "Network results:"
      ],
      "metadata": {
        "id": "qDxChQ9_VPzx"
      }
    },
    {
      "cell_type": "code",
      "source": [
        "fig, axes = plt.subplots(7, 7, figsize=(12,12))\n",
        "\n",
        "for i in range(len(noised_data1)):\n",
        "  result = network1.dense_mem_test(hopf.cut(noised_data1[i],176),20,8)\n",
        "  row, col = i // 7, i % 7\n",
        "  axes[row, col].imshow(result.reshape(16, 16), cmap='inferno')\n",
        "  axes[row, col].axis('off')\n",
        "plt.show()"
      ],
      "metadata": {
        "id": "v9qIUE-lVQIk",
        "colab": {
          "base_uri": "https://localhost:8080/",
          "height": 1000
        },
        "outputId": "2373f9b0-2309-406b-8480-dc3d9c80f795"
      },
      "execution_count": 17,
      "outputs": [
        {
          "output_type": "stream",
          "name": "stdout",
          "text": [
            "Iteration 0, energy: -11.68015479904205\n",
            "Iteration 1, energy: -11.68015479904205\n",
            "Completed in 1 iterations (network stable), error: 0\n",
            "Iteration 0, energy: 8.855711299678266\n",
            "Iteration 1, energy: 6.138096351069034\n",
            "Iteration 2, energy: 6.138096351069034\n",
            "Completed in 2 iterations (network stable), error: 0\n",
            "Iteration 0, energy: -72.63527085696666\n",
            "Iteration 1, energy: -68.37800421093615\n",
            "Iteration 2, energy: -68.37800421093615\n",
            "Completed in 2 iterations (network stable), error: 0\n",
            "Iteration 0, energy: -47.26784718436429\n",
            "Iteration 1, energy: -47.26784718436429\n",
            "Completed in 1 iterations (network stable), error: 0\n",
            "Iteration 0, energy: -87.28492181044759\n",
            "Iteration 1, energy: -87.28492181044759\n",
            "Completed in 1 iterations (network stable), error: 0\n",
            "Iteration 0, energy: -2.5048034076203223\n",
            "Iteration 1, energy: -17.632488325552373\n",
            "Iteration 2, energy: -17.632488325552373\n",
            "Completed in 2 iterations (network stable), error: 0\n",
            "Iteration 0, energy: -29.130065638093008\n",
            "Iteration 1, energy: -32.375020833123145\n",
            "Iteration 2, energy: -32.375020833123145\n",
            "Completed in 2 iterations (network stable), error: 0\n",
            "Iteration 0, energy: 134.08824070137268\n",
            "Iteration 1, energy: 134.08824070137268\n",
            "Completed in 1 iterations (network stable), error: 0\n",
            "Iteration 0, energy: 10.40363638330664\n",
            "Iteration 1, energy: 10.40363638330664\n",
            "Completed in 1 iterations (network stable), error: 0\n",
            "Iteration 0, energy: 10.765990352407208\n",
            "Iteration 1, energy: 10.765990352407208\n",
            "Completed in 1 iterations (network stable), error: 0\n",
            "Iteration 0, energy: -43.29487402478821\n",
            "Iteration 1, energy: -43.29487402478821\n",
            "Completed in 1 iterations (network stable), error: 0\n",
            "Iteration 0, energy: -12.848769723139341\n",
            "Iteration 1, energy: -12.848769723139341\n",
            "Completed in 1 iterations (network stable), error: 0\n",
            "Iteration 0, energy: 84.33227033227809\n",
            "Iteration 1, energy: 84.33227033227809\n",
            "Completed in 1 iterations (network stable), error: 0\n",
            "Iteration 0, energy: -19.393617042506346\n",
            "Iteration 1, energy: -19.393617042506346\n",
            "Completed in 1 iterations (network stable), error: 0\n",
            "Iteration 0, energy: -12.717338939726584\n",
            "Iteration 1, energy: -12.717338939726584\n",
            "Completed in 1 iterations (network stable), error: 0\n",
            "Iteration 0, energy: 38.27863783840776\n",
            "Iteration 1, energy: 20.31400389428022\n",
            "Iteration 2, energy: 20.31400389428022\n",
            "Completed in 2 iterations (network stable), error: 0\n",
            "Iteration 0, energy: -47.261049366591486\n",
            "Iteration 1, energy: -47.261049366591486\n",
            "Completed in 1 iterations (network stable), error: 0\n",
            "Iteration 0, energy: 45.172559074251595\n",
            "Iteration 1, energy: 45.172559074251595\n",
            "Completed in 1 iterations (network stable), error: 0\n",
            "Iteration 0, energy: -69.11762830525643\n",
            "Iteration 1, energy: -69.11762830525643\n",
            "Completed in 1 iterations (network stable), error: 0\n",
            "Iteration 0, energy: 73.86899935125723\n",
            "Iteration 1, energy: 54.10714385050906\n",
            "Iteration 2, energy: 95.6438855806293\n",
            "Iteration 3, energy: 95.6438855806293\n",
            "Completed in 3 iterations (network stable), error: 0\n",
            "Iteration 0, energy: 47.99485337795626\n",
            "Iteration 1, energy: 47.99485337795626\n",
            "Completed in 1 iterations (network stable), error: 0\n",
            "Iteration 0, energy: 0.07608192172674677\n",
            "Iteration 1, energy: -13.269757271015752\n",
            "Iteration 2, energy: -13.269757271015752\n",
            "Completed in 2 iterations (network stable), error: 0\n",
            "Iteration 0, energy: -165.01209225212546\n",
            "Iteration 1, energy: -165.01209225212546\n",
            "Completed in 1 iterations (network stable), error: 0\n",
            "Iteration 0, energy: 114.75173299458923\n",
            "Iteration 1, energy: 87.68804747472177\n",
            "Iteration 2, energy: 87.68804747472177\n",
            "Completed in 2 iterations (network stable), error: 0\n",
            "Iteration 0, energy: 64.85240872407974\n",
            "Iteration 1, energy: 64.85240872407974\n",
            "Completed in 1 iterations (network stable), error: 0\n",
            "Iteration 0, energy: -58.213206038890576\n",
            "Iteration 1, energy: -58.213206038890576\n",
            "Completed in 1 iterations (network stable), error: 0\n",
            "Iteration 0, energy: 7.538384538009733\n",
            "Iteration 1, energy: 7.538384538009733\n",
            "Completed in 1 iterations (network stable), error: 0\n",
            "Iteration 0, energy: 48.612258900050385\n",
            "Iteration 1, energy: 48.612258900050385\n",
            "Completed in 1 iterations (network stable), error: 0\n",
            "Iteration 0, energy: -128.610492221755\n",
            "Iteration 1, energy: -186.47308284706773\n",
            "Iteration 2, energy: -186.47308284706773\n",
            "Completed in 2 iterations (network stable), error: 0\n",
            "Iteration 0, energy: 97.97764688585147\n",
            "Iteration 1, energy: 97.97764688585147\n",
            "Completed in 1 iterations (network stable), error: 0\n",
            "Iteration 0, energy: -88.31958096600876\n",
            "Iteration 1, energy: -69.2963480787601\n",
            "Iteration 2, energy: -69.2963480787601\n",
            "Completed in 2 iterations (network stable), error: 0\n",
            "Iteration 0, energy: 38.64373215904659\n",
            "Iteration 1, energy: 36.0368704884145\n",
            "Iteration 2, energy: 36.0368704884145\n",
            "Completed in 2 iterations (network stable), error: 0\n",
            "Iteration 0, energy: -38.36560647449879\n",
            "Iteration 1, energy: -38.36560647449879\n",
            "Completed in 1 iterations (network stable), error: 0\n",
            "Iteration 0, energy: 53.78924412324359\n",
            "Iteration 1, energy: 51.86780162704261\n",
            "Iteration 2, energy: 51.86780162704261\n",
            "Completed in 2 iterations (network stable), error: 0\n",
            "Iteration 0, energy: -11.680216211087725\n",
            "Iteration 1, energy: 2.0534287426781077\n",
            "Iteration 2, energy: 2.0534287426781077\n",
            "Completed in 2 iterations (network stable), error: 0\n",
            "Iteration 0, energy: 9.076010214801887\n",
            "Iteration 1, energy: 9.076010214801887\n",
            "Completed in 1 iterations (network stable), error: 0\n",
            "Iteration 0, energy: -69.63730870327353\n",
            "Iteration 1, energy: -69.63730870327353\n",
            "Completed in 1 iterations (network stable), error: 0\n",
            "Iteration 0, energy: -86.98742963796494\n",
            "Iteration 1, energy: -57.4917975538463\n",
            "Iteration 2, energy: -57.4917975538463\n",
            "Completed in 2 iterations (network stable), error: 0\n",
            "Iteration 0, energy: -161.2574554048046\n",
            "Iteration 1, energy: -161.2574554048046\n",
            "Completed in 1 iterations (network stable), error: 0\n",
            "Iteration 0, energy: 105.27350293218863\n",
            "Iteration 1, energy: 105.27350293218863\n",
            "Completed in 1 iterations (network stable), error: 0\n",
            "Iteration 0, energy: -22.463856395339384\n",
            "Iteration 1, energy: -19.999968640153256\n",
            "Iteration 2, energy: -33.98849152073886\n",
            "Iteration 3, energy: -33.98849152073886\n",
            "Completed in 3 iterations (network stable), error: 0\n",
            "Iteration 0, energy: -49.985954483359144\n",
            "Iteration 1, energy: -74.08306449916836\n",
            "Iteration 2, energy: -74.08306449916836\n",
            "Completed in 2 iterations (network stable), error: 0\n",
            "Iteration 0, energy: -24.44287496276941\n",
            "Iteration 1, energy: 17.517558106538253\n",
            "Iteration 2, energy: 17.517558106538253\n",
            "Completed in 2 iterations (network stable), error: 0\n",
            "Iteration 0, energy: 43.50480863762103\n",
            "Iteration 1, energy: 125.2756306263992\n",
            "Iteration 2, energy: 125.2756306263992\n",
            "Completed in 2 iterations (network stable), error: 0\n",
            "Iteration 0, energy: -96.05495879133882\n",
            "Iteration 1, energy: -60.717266636319295\n",
            "Iteration 2, energy: -95.70810091274784\n",
            "Iteration 3, energy: -90.13677417312043\n",
            "Iteration 4, energy: -44.75118547475085\n",
            "Iteration 5, energy: -95.5126944981158\n",
            "Iteration 6, energy: -69.2963480787601\n",
            "Iteration 7, energy: -69.2963480787601\n",
            "Completed in 7 iterations (network stable), error: 0\n",
            "Iteration 0, energy: 46.275346539204776\n",
            "Iteration 1, energy: 46.275346539204776\n",
            "Completed in 1 iterations (network stable), error: 0\n",
            "Iteration 0, energy: 95.92100277825367\n",
            "Iteration 1, energy: 95.92100277825367\n",
            "Completed in 1 iterations (network stable), error: 0\n",
            "Iteration 0, energy: 125.18599215891612\n",
            "Iteration 1, energy: 116.65861802827715\n",
            "Iteration 2, energy: 116.65861802827715\n",
            "Completed in 2 iterations (network stable), error: 0\n",
            "Iteration 0, energy: -61.1888168280996\n",
            "Iteration 1, energy: -61.1888168280996\n",
            "Completed in 1 iterations (network stable), error: 0\n"
          ]
        },
        {
          "output_type": "display_data",
          "data": {
            "text/plain": [
              "<Figure size 1200x1200 with 49 Axes>"
            ],
            "image/png": "[encoded data removed]"
          },
          "metadata": {}
        }
      ]
    },
    {
      "cell_type": "code",
      "source": [],
      "metadata": {
        "id": "xY2w77VSb3NE"
      },
      "execution_count": null,
      "outputs": []
    }
  ]
}