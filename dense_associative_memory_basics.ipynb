{
  "nbformat": 4,
  "nbformat_minor": 0,
  "metadata": {
    "colab": {
      "provenance": [],
      "include_colab_link": true
    },
    "kernelspec": {
      "name": "python3",
      "display_name": "Python 3"
    },
    "language_info": {
      "name": "python"
    }
  },
  "cells": [
    {
      "cell_type": "markdown",
      "metadata": {
        "id": "view-in-github",
        "colab_type": "text"
      },
      "source": [
        "<a href=\"https://colab.research.google.com/github/kebabee/ML-assiociative-memory/blob/main/dense_associative_memory_basics.ipynb\" target=\"_parent\"><img src=\"https://colab.research.google.com/assets/colab-badge.svg\" alt=\"Open In Colab\"/></a>"
      ]
    },
    {
      "cell_type": "markdown",
      "source": [
        "### Importing data (irrelevant)"
      ],
      "metadata": {
        "id": "fIlwdhWmAjh7"
      }
    },
    {
      "cell_type": "code",
      "execution_count": 7,
      "metadata": {
        "colab": {
          "base_uri": "https://localhost:8080/"
        },
        "id": "6rZ_S4krSbN3",
        "outputId": "1607f2f3-592c-4ff0-e743-4cc5a230e192"
      },
      "outputs": [
        {
          "output_type": "stream",
          "name": "stdout",
          "text": [
            "hopfield_header.py downloaded successfully.\n",
            "Letters extraction successful.\n"
          ]
        }
      ],
      "source": [
        "import matplotlib.pyplot as plt\n",
        "import numpy as np\n",
        "import requests\n",
        "import zipfile\n",
        "from io import BytesIO\n",
        "from PIL import Image\n",
        "\n",
        "response = requests.get(\"https://raw.githubusercontent.com/kebabee/ML-assiociative-memory/bfa215afd00124cf2c32b26aea42381588e75982/hopfield_header.py\")\n",
        "\n",
        "if response.status_code == 200:\n",
        "    with open('hopfield_header.py', 'wb') as f:\n",
        "        f.write(response.content)\n",
        "    print(\"hopfield_header.py downloaded successfully.\")\n",
        "else:\n",
        "    print(\"Failed to download hopfield_header.py.\")\n",
        "\n",
        "response = requests.get(\"https://github.com/kebabee/ML-assiociative-memory/raw/08eb242de52b29dd9ae769b8bb4af3714a884bab/letters/letters.zip\")\n",
        "\n",
        "if response.status_code == 200:\n",
        "    zip_content = BytesIO(response.content)\n",
        "    with zipfile.ZipFile(zip_content, 'r') as zip_ref:\n",
        "        zip_ref.extractall('letters')\n",
        "    print(\"Letters extraction successful.\")\n",
        "else:\n",
        "    print(\"Failed to download the zip file.\")\n",
        "\n",
        "\n",
        "import hopfield_header as hopf\n",
        "\n",
        "def bipolar_letter_load(adress):\n",
        "  return np.where(np.array(Image.open(adress))[:,:,0]<128,1,-1).reshape(-1)\n",
        "\n",
        "letters = []\n",
        "\n",
        "letters.append(bipolar_letter_load('letters/1.png'))\n",
        "letters.append(bipolar_letter_load('letters/2.png'))\n",
        "letters.append(bipolar_letter_load('letters/3.png'))\n",
        "letters.append(bipolar_letter_load('letters/4.png'))\n",
        "letters.append(bipolar_letter_load('letters/5.png'))\n",
        "letters.append(bipolar_letter_load('letters/6.png'))\n",
        "letters.append(bipolar_letter_load('letters/7.png'))\n",
        "letters.append(bipolar_letter_load('letters/8.png'))\n",
        "letters.append(bipolar_letter_load('letters/9.png'))\n",
        "letters.append(bipolar_letter_load('letters/A.png'))\n",
        "letters.append(bipolar_letter_load('letters/B.png'))\n",
        "letters.append(bipolar_letter_load('letters/C.png'))\n",
        "letters.append(bipolar_letter_load('letters/D.png'))\n",
        "letters.append(bipolar_letter_load('letters/E.png'))\n",
        "letters.append(bipolar_letter_load('letters/F.png'))\n",
        "letters.append(bipolar_letter_load('letters/G.png'))\n",
        "letters.append(bipolar_letter_load('letters/H.png'))\n",
        "letters.append(bipolar_letter_load('letters/I.png'))\n",
        "letters.append(bipolar_letter_load('letters/J.png'))\n",
        "letters.append(bipolar_letter_load('letters/K.png'))\n",
        "letters.append(bipolar_letter_load('letters/L.png'))\n",
        "letters.append(bipolar_letter_load('letters/M.png'))\n",
        "letters.append(bipolar_letter_load('letters/N.png'))\n",
        "letters.append(bipolar_letter_load('letters/O.png'))\n",
        "letters.append(bipolar_letter_load('letters/P.png'))\n",
        "letters.append(bipolar_letter_load('letters/Q.png'))\n",
        "letters.append(bipolar_letter_load('letters/R.png'))\n",
        "letters.append(bipolar_letter_load('letters/S.png'))\n",
        "letters.append(bipolar_letter_load('letters/T.png'))\n",
        "letters.append(bipolar_letter_load('letters/U.png'))\n",
        "letters.append(bipolar_letter_load('letters/W.png'))\n",
        "letters.append(bipolar_letter_load('letters/X.png'))\n",
        "letters.append(bipolar_letter_load('letters/Y.png'))\n",
        "letters.append(bipolar_letter_load('letters/Z.png'))\n",
        "letters.append(bipolar_letter_load('letters/?.png'))\n",
        "letters.append(bipolar_letter_load('letters/@.png'))\n",
        "letters.append(bipolar_letter_load('letters/&.png'))\n",
        "letters.append(bipolar_letter_load('letters/#.png'))\n",
        "letters.append(bipolar_letter_load('letters/%.png'))\n",
        "letters.append(bipolar_letter_load('letters/$.png'))\n",
        "letters.append(bipolar_letter_load('letters/eu.png'))\n",
        "letters.append(bipolar_letter_load('letters/inf.png'))\n",
        "letters.append(bipolar_letter_load('letters/pi.png'))\n",
        "letters.append(bipolar_letter_load('letters/ps.png'))\n",
        "letters.append(bipolar_letter_load('letters/se.png'))\n",
        "letters.append(bipolar_letter_load('letters/si.png'))\n",
        "letters.append(bipolar_letter_load('letters/sm.png'))\n",
        "letters.append(bipolar_letter_load('letters/us.png'))\n",
        "letters.append(bipolar_letter_load('letters/al.png'))\n",
        "\n",
        "noised_data = []\n",
        "noised_data1 = letters.copy()\n",
        "\n",
        "for i in range(len(letters)):\n",
        "    noised_data.append(hopf.noise(letters[i], 40))\n",
        "\n",
        "network1 = hopf.hopfield_net(256)\n",
        "network1.set_patterns(letters)"
      ]
    },
    {
      "cell_type": "markdown",
      "source": [
        "# Dense associative memory\n",
        "\n",
        "Classic Hopfield network is working only with small number of patterns relative to number of neurons. Way improving capacity is new energy function of dense associative memory:\n",
        "\n",
        "$$E = -\\sum^S_{\\mu=1} (\\sum_i x_i^\\mu \\xi_i)^n$$\n",
        "where *n* is integer. With *n=2* it is just classic Hopfield network model.\n",
        "\n",
        "Neuron update is based on a question \"Is it beneficial to reduce energy for me to change my state?\". In math way:\n",
        "$$\\xi_i = sgn[E(\\xi_i=1) - E(\\xi_i = -1)]$$\n",
        "With implicit energy equation it is:\n",
        "$$\\xi_i = sgn[\\sum_{\\mu=1}^S(x_i^\\mu + \\sum_{j \\neq i}x_j^\\mu \\xi_j)^n - (-x_i^\\mu + \\sum_{j \\neq i}x_j^\\mu \\xi_j)]$$\n",
        "\n",
        "This new equation increases capacity so much so that it exceeds the number of neurons.\n",
        "\n",
        "Consider 49 patterns:"
      ],
      "metadata": {
        "id": "Sb8YePAAUxmg"
      }
    },
    {
      "cell_type": "code",
      "source": [
        "fig, axes = plt.subplots(7, 7, figsize=(12,12))\n",
        "\n",
        "for i in range(len(network1.patterns)):\n",
        "  row, col = i // 7, i % 7\n",
        "  axes[row, col].imshow(network1.patterns[i].reshape(16, 16), cmap='inferno')\n",
        "  axes[row, col].axis('off')\n",
        "plt.show()"
      ],
      "metadata": {
        "colab": {
          "base_uri": "https://localhost:8080/",
          "height": 741
        },
        "id": "zizqhNgdTUa3",
        "outputId": "fb30de2e-2e2c-4c8b-c7b4-02f217510e87"
      },
      "execution_count": 8,
      "outputs": [
        {
          "output_type": "display_data",
          "data": {
            "text/plain": [
              "<Figure size 1200x1200 with 49 Axes>"
            ],
            "image/png": "[encoded data removed]"
          },
          "metadata": {}
        }
      ]
    },
    {
      "cell_type": "markdown",
      "source": [
        "Distorted images of patterns is test dataset:"
      ],
      "metadata": {
        "id": "UFooo0vrU-IZ"
      }
    },
    {
      "cell_type": "code",
      "source": [
        "fig, axes = plt.subplots(7, 7, figsize=(12,12))\n",
        "\n",
        "for i in range(len(noised_data)):\n",
        "  row, col = i // 7, i % 7\n",
        "  axes[row, col].imshow(noised_data[i].reshape(16, 16), cmap='inferno')\n",
        "  axes[row, col].axis('off')\n",
        "plt.show()"
      ],
      "metadata": {
        "colab": {
          "base_uri": "https://localhost:8080/",
          "height": 741
        },
        "id": "6nQMdlHQU7_0",
        "outputId": "a14ec54f-9c68-4e36-a924-3cca050467cc"
      },
      "execution_count": 9,
      "outputs": [
        {
          "output_type": "display_data",
          "data": {
            "text/plain": [
              "<Figure size 1200x1200 with 49 Axes>"
            ],
            "image/png": "[encoded data removed]"
          },
          "metadata": {}
        }
      ]
    },
    {
      "cell_type": "markdown",
      "source": [
        "Now results of new model:"
      ],
      "metadata": {
        "id": "RN-2IPQ9VCTD"
      }
    },
    {
      "cell_type": "code",
      "source": [
        "fig, axes = plt.subplots(7, 7, figsize=(12,12))\n",
        "\n",
        "for i in range(len(noised_data)):\n",
        "  result = network1.dense_mem_test(noised_data[i],20,8)\n",
        "  row, col = i // 7, i % 7\n",
        "  axes[row, col].imshow(result.reshape(16, 16), cmap='inferno')\n",
        "  axes[row, col].axis('off')\n",
        "plt.show()"
      ],
      "metadata": {
        "colab": {
          "base_uri": "https://localhost:8080/",
          "height": 1000
        },
        "id": "KnoDpqP3VCnF",
        "outputId": "da9b09c5-4638-4af9-f253-bcb5327eae92"
      },
      "execution_count": 10,
      "outputs": [
        {
          "output_type": "stream",
          "name": "stdout",
          "text": [
            "Iteration 0, energy: 92.19142234807455\n",
            "Iteration 1, energy: 92.19142234807455\n",
            "Completed in 1 iterations (network stable), error: 0\n",
            "Iteration 0, energy: 29.530134277840773\n",
            "Iteration 1, energy: 29.530134277840773\n",
            "Completed in 1 iterations (network stable), error: 0\n",
            "Iteration 0, energy: 33.56746939985517\n",
            "Iteration 1, energy: 33.56746939985517\n",
            "Completed in 1 iterations (network stable), error: 0\n",
            "Iteration 0, energy: 133.3581657067279\n",
            "Iteration 1, energy: 133.3581657067279\n",
            "Completed in 1 iterations (network stable), error: 0\n",
            "Iteration 0, energy: -126.19616332567645\n",
            "Iteration 1, energy: -126.19616332567645\n",
            "Completed in 1 iterations (network stable), error: 0\n",
            "Iteration 0, energy: -58.947603914322855\n",
            "Iteration 1, energy: -58.947603914322855\n",
            "Completed in 1 iterations (network stable), error: 0\n",
            "Iteration 0, energy: -4.260064172102876\n",
            "Iteration 1, energy: -4.260064172102876\n",
            "Completed in 1 iterations (network stable), error: 0\n",
            "Iteration 0, energy: -137.8923733325185\n",
            "Iteration 1, energy: -137.8923733325185\n",
            "Completed in 1 iterations (network stable), error: 0\n",
            "Iteration 0, energy: 37.804314713825725\n",
            "Iteration 1, energy: 37.804314713825725\n",
            "Completed in 1 iterations (network stable), error: 0\n",
            "Iteration 0, energy: 187.46717081402\n",
            "Iteration 1, energy: 187.46717081402\n",
            "Completed in 1 iterations (network stable), error: 0\n",
            "Iteration 0, energy: -89.4223553098133\n",
            "Iteration 1, energy: -89.4223553098133\n",
            "Completed in 1 iterations (network stable), error: 0\n",
            "Iteration 0, energy: -18.85392639435713\n",
            "Iteration 1, energy: -18.85392639435713\n",
            "Completed in 1 iterations (network stable), error: 0\n",
            "Iteration 0, energy: 54.5254896077211\n",
            "Iteration 1, energy: 54.5254896077211\n",
            "Completed in 1 iterations (network stable), error: 0\n",
            "Iteration 0, energy: 75.40525547293097\n",
            "Iteration 1, energy: 75.40525547293097\n",
            "Completed in 1 iterations (network stable), error: 0\n",
            "Iteration 0, energy: 63.52628493959253\n",
            "Iteration 1, energy: 63.52628493959253\n",
            "Completed in 1 iterations (network stable), error: 0\n",
            "Iteration 0, energy: 11.851217154930268\n",
            "Iteration 1, energy: 11.851217154930268\n",
            "Completed in 1 iterations (network stable), error: 0\n",
            "Iteration 0, energy: -86.243137014601\n",
            "Iteration 1, energy: -86.243137014601\n",
            "Completed in 1 iterations (network stable), error: 0\n",
            "Iteration 0, energy: 89.260913032341\n",
            "Iteration 1, energy: 89.260913032341\n",
            "Completed in 1 iterations (network stable), error: 0\n",
            "Iteration 0, energy: 58.437557118670206\n",
            "Iteration 1, energy: 58.437557118670206\n",
            "Completed in 1 iterations (network stable), error: 0\n",
            "Iteration 0, energy: 3.5283016015233333\n",
            "Iteration 1, energy: 3.5283016015233333\n",
            "Completed in 1 iterations (network stable), error: 0\n",
            "Iteration 0, energy: -16.152927995789305\n",
            "Iteration 1, energy: -16.152927995789305\n",
            "Completed in 1 iterations (network stable), error: 0\n",
            "Iteration 0, energy: 117.41134073973714\n",
            "Iteration 1, energy: 117.41134073973714\n",
            "Completed in 1 iterations (network stable), error: 0\n",
            "Iteration 0, energy: -4.676302364905677\n",
            "Iteration 1, energy: -4.676302364905677\n",
            "Completed in 1 iterations (network stable), error: 0\n",
            "Iteration 0, energy: -23.912782186486996\n",
            "Iteration 1, energy: -23.912782186486996\n",
            "Completed in 1 iterations (network stable), error: 0\n",
            "Iteration 0, energy: 10.211537324211973\n",
            "Iteration 1, energy: 10.211537324211973\n",
            "Completed in 1 iterations (network stable), error: 0\n",
            "Iteration 0, energy: -54.41594435624467\n",
            "Iteration 1, energy: -54.41594435624467\n",
            "Completed in 1 iterations (network stable), error: 0\n",
            "Iteration 0, energy: 134.07904098244725\n",
            "Iteration 1, energy: 134.07904098244725\n",
            "Completed in 1 iterations (network stable), error: 0\n",
            "Iteration 0, energy: 73.18623957674778\n",
            "Iteration 1, energy: 73.18623957674778\n",
            "Completed in 1 iterations (network stable), error: 0\n",
            "Iteration 0, energy: 36.68941069957524\n",
            "Iteration 1, energy: 36.68941069957524\n",
            "Completed in 1 iterations (network stable), error: 0\n",
            "Iteration 0, energy: -16.464394601391426\n",
            "Iteration 1, energy: -16.464394601391426\n",
            "Completed in 1 iterations (network stable), error: 0\n",
            "Iteration 0, energy: -56.11161522090011\n",
            "Iteration 1, energy: -56.11161522090011\n",
            "Completed in 1 iterations (network stable), error: 0\n",
            "Iteration 0, energy: -45.57377245952295\n",
            "Iteration 1, energy: -45.57377245952295\n",
            "Completed in 1 iterations (network stable), error: 0\n",
            "Iteration 0, energy: 15.799484344175589\n",
            "Iteration 1, energy: 15.799484344175589\n",
            "Completed in 1 iterations (network stable), error: 0\n",
            "Iteration 0, energy: 1.972945800547656\n",
            "Iteration 1, energy: 1.972945800547656\n",
            "Completed in 1 iterations (network stable), error: 0\n",
            "Iteration 0, energy: 112.00293507530083\n",
            "Iteration 1, energy: 112.00293507530083\n",
            "Completed in 1 iterations (network stable), error: 0\n",
            "Iteration 0, energy: 25.031328675954047\n",
            "Iteration 1, energy: 25.031328675954047\n",
            "Completed in 1 iterations (network stable), error: 0\n",
            "Iteration 0, energy: 32.34060900063268\n",
            "Iteration 1, energy: 32.34060900063268\n",
            "Completed in 1 iterations (network stable), error: 0\n",
            "Iteration 0, energy: -30.274627103700645\n",
            "Iteration 1, energy: -30.274627103700645\n",
            "Completed in 1 iterations (network stable), error: 0\n",
            "Iteration 0, energy: 11.831320169984686\n",
            "Iteration 1, energy: 11.831320169984686\n",
            "Completed in 1 iterations (network stable), error: 0\n",
            "Iteration 0, energy: 68.34062300368969\n",
            "Iteration 1, energy: 68.34062300368969\n",
            "Completed in 1 iterations (network stable), error: 0\n",
            "Iteration 0, energy: 86.58712235715362\n",
            "Iteration 1, energy: 86.58712235715362\n",
            "Completed in 1 iterations (network stable), error: 0\n",
            "Iteration 0, energy: -52.55309584101196\n",
            "Iteration 1, energy: -52.55309584101196\n",
            "Completed in 1 iterations (network stable), error: 0\n",
            "Iteration 0, energy: 22.443963532619676\n",
            "Iteration 1, energy: 22.443963532619676\n",
            "Completed in 1 iterations (network stable), error: 0\n",
            "Iteration 0, energy: 44.53744706134292\n",
            "Iteration 1, energy: 44.53744706134292\n",
            "Completed in 1 iterations (network stable), error: 0\n",
            "Iteration 0, energy: -20.561234333863013\n",
            "Iteration 1, energy: -20.561234333863013\n",
            "Completed in 1 iterations (network stable), error: 0\n",
            "Iteration 0, energy: -26.597758286569395\n",
            "Iteration 1, energy: -26.597758286569395\n",
            "Completed in 1 iterations (network stable), error: 0\n",
            "Iteration 0, energy: 1.755130138628516\n",
            "Iteration 1, energy: 1.755130138628516\n",
            "Completed in 1 iterations (network stable), error: 0\n",
            "Iteration 0, energy: -11.815518618692472\n",
            "Iteration 1, energy: -11.815518618692472\n",
            "Completed in 1 iterations (network stable), error: 0\n",
            "Iteration 0, energy: -25.576714107065072\n",
            "Iteration 1, energy: -25.576714107065072\n",
            "Completed in 1 iterations (network stable), error: 0\n"
          ]
        },
        {
          "output_type": "display_data",
          "data": {
            "text/plain": [
              "<Figure size 1200x1200 with 49 Axes>"
            ],
            "image/png": "[encoded data removed]"
          },
          "metadata": {}
        }
      ]
    },
    {
      "cell_type": "markdown",
      "source": [
        "It takes quite a lot of time but patterns were recalled perfectly.\n",
        "\n",
        "Harder task, second test dataset is set of patterns with 68.75% of neurons cut:"
      ],
      "metadata": {
        "id": "q6sqop5qVF5d"
      }
    },
    {
      "cell_type": "code",
      "source": [
        "fig, axes = plt.subplots(7, 7, figsize=(12,12))\n",
        "\n",
        "for i in range(len(noised_data1)):\n",
        "  row, col = i // 7, i % 7\n",
        "  axes[row, col].imshow(hopf.cut(noised_data1[i],176).reshape(16, 16), cmap='inferno')\n",
        "  axes[row, col].axis('off')\n",
        "plt.show()"
      ],
      "metadata": {
        "id": "E7UOmd7iVGOi",
        "colab": {
          "base_uri": "https://localhost:8080/",
          "height": 741
        },
        "outputId": "c7ba84d2-4e46-4b76-82e6-b87fa12e93e5"
      },
      "execution_count": 11,
      "outputs": [
        {
          "output_type": "display_data",
          "data": {
            "text/plain": [
              "<Figure size 1200x1200 with 49 Axes>"
            ],
            "image/png": "[encoded data removed]"
          },
          "metadata": {}
        }
      ]
    },
    {
      "cell_type": "markdown",
      "source": [
        "Network results:"
      ],
      "metadata": {
        "id": "qDxChQ9_VPzx"
      }
    },
    {
      "cell_type": "code",
      "source": [
        "fig, axes = plt.subplots(7, 7, figsize=(12,12))\n",
        "\n",
        "for i in range(len(noised_data1)):\n",
        "  result = network1.dense_mem_test(hopf.cut(noised_data1[i],176),20,8)\n",
        "  row, col = i // 7, i % 7\n",
        "  axes[row, col].imshow(result.reshape(16, 16), cmap='inferno')\n",
        "  axes[row, col].axis('off')\n",
        "plt.show()"
      ],
      "metadata": {
        "id": "v9qIUE-lVQIk",
        "colab": {
          "base_uri": "https://localhost:8080/",
          "height": 1000
        },
        "outputId": "221068cd-cede-4fdd-8683-fb8d70e0174d"
      },
      "execution_count": 12,
      "outputs": [
        {
          "output_type": "stream",
          "name": "stdout",
          "text": [
            "Iteration 0, energy: 92.19142234807455\n",
            "Iteration 1, energy: 92.19142234807455\n",
            "Completed in 1 iterations (network stable), error: 0\n",
            "Iteration 0, energy: 29.530134277840773\n",
            "Iteration 1, energy: 29.530134277840773\n",
            "Completed in 1 iterations (network stable), error: 0\n",
            "Iteration 0, energy: 33.56746939985517\n",
            "Iteration 1, energy: 33.56746939985517\n",
            "Completed in 1 iterations (network stable), error: 0\n",
            "Iteration 0, energy: 147.56531378545873\n",
            "Iteration 1, energy: 133.3581657067279\n",
            "Iteration 2, energy: 133.3581657067279\n",
            "Completed in 2 iterations (network stable), error: 0\n",
            "Iteration 0, energy: -126.19616332567645\n",
            "Iteration 1, energy: -126.19616332567645\n",
            "Completed in 1 iterations (network stable), error: 0\n",
            "Iteration 0, energy: -59.02490065184685\n",
            "Iteration 1, energy: -58.947603914322855\n",
            "Iteration 2, energy: -58.947603914322855\n",
            "Completed in 2 iterations (network stable), error: 0\n",
            "Iteration 0, energy: 31.515892199287364\n",
            "Iteration 1, energy: -4.260064172102876\n",
            "Iteration 2, energy: -4.260064172102876\n",
            "Completed in 2 iterations (network stable), error: 0\n",
            "Iteration 0, energy: -137.8923733325185\n",
            "Iteration 1, energy: -137.8923733325185\n",
            "Completed in 1 iterations (network stable), error: 0\n",
            "Iteration 0, energy: 55.71163858847433\n",
            "Iteration 1, energy: 37.804314713825725\n",
            "Iteration 2, energy: 37.804314713825725\n",
            "Completed in 2 iterations (network stable), error: 0\n",
            "Iteration 0, energy: 187.46717081402\n",
            "Iteration 1, energy: 187.46717081402\n",
            "Completed in 1 iterations (network stable), error: 0\n",
            "Iteration 0, energy: -65.28997245599274\n",
            "Iteration 1, energy: -89.4223553098133\n",
            "Iteration 2, energy: -89.4223553098133\n",
            "Completed in 2 iterations (network stable), error: 0\n",
            "Iteration 0, energy: -3.3449289606175796\n",
            "Iteration 1, energy: -18.85392639435713\n",
            "Iteration 2, energy: -18.85392639435713\n",
            "Completed in 2 iterations (network stable), error: 0\n",
            "Iteration 0, energy: 54.5254896077211\n",
            "Iteration 1, energy: 54.5254896077211\n",
            "Completed in 1 iterations (network stable), error: 0\n",
            "Iteration 0, energy: 75.40525547293097\n",
            "Iteration 1, energy: 75.40525547293097\n",
            "Completed in 1 iterations (network stable), error: 0\n",
            "Iteration 0, energy: 59.32208487148673\n",
            "Iteration 1, energy: 63.52628493959253\n",
            "Iteration 2, energy: 63.52628493959253\n",
            "Completed in 2 iterations (network stable), error: 0\n",
            "Iteration 0, energy: -8.42103896844538\n",
            "Iteration 1, energy: 11.851217154930268\n",
            "Iteration 2, energy: 11.851217154930268\n",
            "Completed in 2 iterations (network stable), error: 0\n",
            "Iteration 0, energy: -86.243137014601\n",
            "Iteration 1, energy: -86.243137014601\n",
            "Completed in 1 iterations (network stable), error: 0\n",
            "Iteration 0, energy: 89.260913032341\n",
            "Iteration 1, energy: 89.260913032341\n",
            "Completed in 1 iterations (network stable), error: 0\n",
            "Iteration 0, energy: 58.437557118670206\n",
            "Iteration 1, energy: 58.437557118670206\n",
            "Completed in 1 iterations (network stable), error: 0\n",
            "Iteration 0, energy: 3.5283016015233333\n",
            "Iteration 1, energy: 3.5283016015233333\n",
            "Completed in 1 iterations (network stable), error: 0\n",
            "Iteration 0, energy: -16.152927995789305\n",
            "Iteration 1, energy: -16.152927995789305\n",
            "Completed in 1 iterations (network stable), error: 0\n",
            "Iteration 0, energy: 117.41134073973714\n",
            "Iteration 1, energy: 117.41134073973714\n",
            "Completed in 1 iterations (network stable), error: 0\n",
            "Iteration 0, energy: -4.676302364905677\n",
            "Iteration 1, energy: -4.676302364905677\n",
            "Completed in 1 iterations (network stable), error: 0\n",
            "Iteration 0, energy: -23.912782186486996\n",
            "Iteration 1, energy: -23.912782186486996\n",
            "Completed in 1 iterations (network stable), error: 0\n",
            "Iteration 0, energy: 11.962839064818391\n",
            "Iteration 1, energy: 10.211537324211973\n",
            "Iteration 2, energy: 10.211537324211973\n",
            "Completed in 2 iterations (network stable), error: 0\n",
            "Iteration 0, energy: -54.41594435624467\n",
            "Iteration 1, energy: -54.41594435624467\n",
            "Completed in 1 iterations (network stable), error: 0\n",
            "Iteration 0, energy: 134.07904098244725\n",
            "Iteration 1, energy: 134.07904098244725\n",
            "Completed in 1 iterations (network stable), error: 0\n",
            "Iteration 0, energy: 73.18623957674778\n",
            "Iteration 1, energy: 73.18623957674778\n",
            "Completed in 1 iterations (network stable), error: 0\n",
            "Iteration 0, energy: 96.00914383769823\n",
            "Iteration 1, energy: 118.84469066251822\n",
            "Iteration 2, energy: 36.68941069957524\n",
            "Iteration 3, energy: 36.68941069957524\n",
            "Completed in 3 iterations (network stable), error: 0\n",
            "Iteration 0, energy: -16.464394601391426\n",
            "Iteration 1, energy: -16.464394601391426\n",
            "Completed in 1 iterations (network stable), error: 0\n",
            "Iteration 0, energy: -26.10757300581792\n",
            "Iteration 1, energy: -56.11161522090011\n",
            "Iteration 2, energy: -56.11161522090011\n",
            "Completed in 2 iterations (network stable), error: 0\n",
            "Iteration 0, energy: -45.57377245952295\n",
            "Iteration 1, energy: -45.57377245952295\n",
            "Completed in 1 iterations (network stable), error: 0\n",
            "Iteration 0, energy: 53.29674665465025\n",
            "Iteration 1, energy: 15.799484344175589\n",
            "Iteration 2, energy: 15.799484344175589\n",
            "Completed in 2 iterations (network stable), error: 0\n",
            "Iteration 0, energy: 1.972945800547656\n",
            "Iteration 1, energy: 1.972945800547656\n",
            "Completed in 1 iterations (network stable), error: 0\n",
            "Iteration 0, energy: 100.95743885448275\n",
            "Iteration 1, energy: 112.00293507530083\n",
            "Iteration 2, energy: 112.00293507530083\n",
            "Completed in 2 iterations (network stable), error: 0\n",
            "Iteration 0, energy: 25.031328675954047\n",
            "Iteration 1, energy: 25.031328675954047\n",
            "Completed in 1 iterations (network stable), error: 0\n",
            "Iteration 0, energy: 32.34060900063268\n",
            "Iteration 1, energy: 32.34060900063268\n",
            "Completed in 1 iterations (network stable), error: 0\n",
            "Iteration 0, energy: -31.946049835229438\n",
            "Iteration 1, energy: -30.274627103700645\n",
            "Iteration 2, energy: -30.274627103700645\n",
            "Completed in 2 iterations (network stable), error: 0\n",
            "Iteration 0, energy: 11.831320169984686\n",
            "Iteration 1, energy: 11.831320169984686\n",
            "Completed in 1 iterations (network stable), error: 0\n",
            "Iteration 0, energy: 68.34062300368969\n",
            "Iteration 1, energy: 68.34062300368969\n",
            "Completed in 1 iterations (network stable), error: 0\n",
            "Iteration 0, energy: -11.12063420846544\n",
            "Iteration 1, energy: 68.25809087562047\n",
            "Iteration 2, energy: 86.58712235715362\n",
            "Iteration 3, energy: 86.58712235715362\n",
            "Completed in 3 iterations (network stable), error: 0\n",
            "Iteration 0, energy: 11.119121202760208\n",
            "Iteration 1, energy: -52.55309584101196\n",
            "Iteration 2, energy: -52.55309584101196\n",
            "Completed in 2 iterations (network stable), error: 0\n",
            "Iteration 0, energy: 11.348281237966596\n",
            "Iteration 1, energy: 22.443963532619676\n",
            "Iteration 2, energy: 22.443963532619676\n",
            "Completed in 2 iterations (network stable), error: 0\n",
            "Iteration 0, energy: 88.69927141491857\n",
            "Iteration 1, energy: 44.53744706134292\n",
            "Iteration 2, energy: 44.53744706134292\n",
            "Completed in 2 iterations (network stable), error: 0\n",
            "Iteration 0, energy: -8.0133077045435\n",
            "Iteration 1, energy: 79.63383020545945\n",
            "Iteration 2, energy: 33.93395620435114\n",
            "Iteration 3, energy: 8.591442379760771\n",
            "Iteration 4, energy: -13.235531278306004\n",
            "Iteration 5, energy: -63.62668323428979\n",
            "Iteration 6, energy: -58.947603914322855\n",
            "Iteration 7, energy: -58.947603914322855\n",
            "Completed in 7 iterations (network stable), error: 0\n",
            "Iteration 0, energy: -26.597758286569395\n",
            "Iteration 1, energy: -26.597758286569395\n",
            "Completed in 1 iterations (network stable), error: 0\n",
            "Iteration 0, energy: 1.755130138628516\n",
            "Iteration 1, energy: 1.755130138628516\n",
            "Completed in 1 iterations (network stable), error: 0\n",
            "Iteration 0, energy: -21.277141601131362\n",
            "Iteration 1, energy: -11.815518618692472\n",
            "Iteration 2, energy: -11.815518618692472\n",
            "Completed in 2 iterations (network stable), error: 0\n",
            "Iteration 0, energy: -25.576714107065072\n",
            "Iteration 1, energy: -25.576714107065072\n",
            "Completed in 1 iterations (network stable), error: 0\n"
          ]
        },
        {
          "output_type": "display_data",
          "data": {
            "text/plain": [
              "<Figure size 1200x1200 with 49 Axes>"
            ],
            "image/png": "[encoded data removed]"
          },
          "metadata": {}
        }
      ]
    },
    {
      "cell_type": "markdown",
      "source": [
        "This time patterns were perfectly recalled too."
      ],
      "metadata": {
        "id": "Wongd88aEZzw"
      }
    }
  ]
}