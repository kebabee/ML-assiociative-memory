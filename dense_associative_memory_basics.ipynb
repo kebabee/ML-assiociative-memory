{
  "nbformat": 4,
  "nbformat_minor": 0,
  "metadata": {
    "colab": {
      "provenance": [],
      "include_colab_link": true
    },
    "kernelspec": {
      "name": "python3",
      "display_name": "Python 3"
    },
    "language_info": {
      "name": "python"
    }
  },
  "cells": [
    {
      "cell_type": "markdown",
      "metadata": {
        "id": "view-in-github",
        "colab_type": "text"
      },
      "source": [
        "<a href=\"https://colab.research.google.com/github/kebabee/ML-assiociative-memory/blob/main/dense_associative_memory_basics.ipynb\" target=\"_parent\"><img src=\"https://colab.research.google.com/assets/colab-badge.svg\" alt=\"Open In Colab\"/></a>"
      ]
    },
    {
      "cell_type": "markdown",
      "source": [
        "### Importing data (irrelevant)"
      ],
      "metadata": {
        "id": "fIlwdhWmAjh7"
      }
    },
    {
      "cell_type": "code",
      "execution_count": 13,
      "metadata": {
        "colab": {
          "base_uri": "https://localhost:8080/"
        },
        "id": "6rZ_S4krSbN3",
        "outputId": "c0455a46-383f-4517-8219-0f3543bc7dbb"
      },
      "outputs": [
        {
          "output_type": "stream",
          "name": "stdout",
          "text": [
            "hopfield_header.py downloaded successfully.\n",
            "Letters extraction successful.\n"
          ]
        }
      ],
      "source": [
        "import matplotlib.pyplot as plt\n",
        "import numpy as np\n",
        "import requests\n",
        "import zipfile\n",
        "from io import BytesIO\n",
        "from PIL import Image\n",
        "\n",
        "response = requests.get(\"https://raw.githubusercontent.com/kebabee/ML-assiociative-memory/bfa215afd00124cf2c32b26aea42381588e75982/hopfield_header.py\")\n",
        "\n",
        "if response.status_code == 200:\n",
        "    with open('hopfield_header.py', 'wb') as f:\n",
        "        f.write(response.content)\n",
        "    print(\"hopfield_header.py downloaded successfully.\")\n",
        "else:\n",
        "    print(\"Failed to download hopfield_header.py.\")\n",
        "\n",
        "response = requests.get(\"https://github.com/kebabee/ML-assiociative-memory/raw/08eb242de52b29dd9ae769b8bb4af3714a884bab/letters/letters.zip\")\n",
        "\n",
        "if response.status_code == 200:\n",
        "    zip_content = BytesIO(response.content)\n",
        "    with zipfile.ZipFile(zip_content, 'r') as zip_ref:\n",
        "        zip_ref.extractall('letters')\n",
        "    print(\"Letters extraction successful.\")\n",
        "else:\n",
        "    print(\"Failed to download the zip file.\")\n",
        "\n",
        "\n",
        "import hopfield_header as hopf\n",
        "\n",
        "def bipolar_letter_load(adress):\n",
        "  return np.where(np.array(Image.open(adress))[:,:,0]<128,-1,1).reshape(-1)\n",
        "\n",
        "letters = []\n",
        "\n",
        "letters.append(bipolar_letter_load('letters/1.png'))\n",
        "letters.append(bipolar_letter_load('letters/2.png'))\n",
        "letters.append(bipolar_letter_load('letters/3.png'))\n",
        "letters.append(bipolar_letter_load('letters/4.png'))\n",
        "letters.append(bipolar_letter_load('letters/5.png'))\n",
        "letters.append(bipolar_letter_load('letters/6.png'))\n",
        "letters.append(bipolar_letter_load('letters/7.png'))\n",
        "letters.append(bipolar_letter_load('letters/8.png'))\n",
        "letters.append(bipolar_letter_load('letters/9.png'))\n",
        "letters.append(bipolar_letter_load('letters/A.png'))\n",
        "letters.append(bipolar_letter_load('letters/B.png'))\n",
        "letters.append(bipolar_letter_load('letters/C.png'))\n",
        "letters.append(bipolar_letter_load('letters/D.png'))\n",
        "letters.append(bipolar_letter_load('letters/E.png'))\n",
        "letters.append(bipolar_letter_load('letters/F.png'))\n",
        "letters.append(bipolar_letter_load('letters/G.png'))\n",
        "letters.append(bipolar_letter_load('letters/H.png'))\n",
        "letters.append(bipolar_letter_load('letters/I.png'))\n",
        "letters.append(bipolar_letter_load('letters/J.png'))\n",
        "letters.append(bipolar_letter_load('letters/K.png'))\n",
        "letters.append(bipolar_letter_load('letters/L.png'))\n",
        "letters.append(bipolar_letter_load('letters/M.png'))\n",
        "letters.append(bipolar_letter_load('letters/N.png'))\n",
        "letters.append(bipolar_letter_load('letters/O.png'))\n",
        "letters.append(bipolar_letter_load('letters/P.png'))\n",
        "letters.append(bipolar_letter_load('letters/Q.png'))\n",
        "letters.append(bipolar_letter_load('letters/R.png'))\n",
        "letters.append(bipolar_letter_load('letters/S.png'))\n",
        "letters.append(bipolar_letter_load('letters/T.png'))\n",
        "letters.append(bipolar_letter_load('letters/U.png'))\n",
        "letters.append(bipolar_letter_load('letters/W.png'))\n",
        "letters.append(bipolar_letter_load('letters/X.png'))\n",
        "letters.append(bipolar_letter_load('letters/Y.png'))\n",
        "letters.append(bipolar_letter_load('letters/Z.png'))\n",
        "letters.append(bipolar_letter_load('letters/?.png'))\n",
        "letters.append(bipolar_letter_load('letters/@.png'))\n",
        "letters.append(bipolar_letter_load('letters/&.png'))\n",
        "letters.append(bipolar_letter_load('letters/#.png'))\n",
        "letters.append(bipolar_letter_load('letters/%.png'))\n",
        "letters.append(bipolar_letter_load('letters/$.png'))\n",
        "letters.append(bipolar_letter_load('letters/eu.png'))\n",
        "letters.append(bipolar_letter_load('letters/inf.png'))\n",
        "letters.append(bipolar_letter_load('letters/pi.png'))\n",
        "letters.append(bipolar_letter_load('letters/ps.png'))\n",
        "letters.append(bipolar_letter_load('letters/se.png'))\n",
        "letters.append(bipolar_letter_load('letters/si.png'))\n",
        "letters.append(bipolar_letter_load('letters/sm.png'))\n",
        "letters.append(bipolar_letter_load('letters/us.png'))\n",
        "letters.append(bipolar_letter_load('letters/al.png'))\n",
        "\n",
        "noised_data = []\n",
        "noised_data1 = letters.copy()\n",
        "\n",
        "for i in range(len(letters)):\n",
        "    noised_data.append(hopf.noise(letters[i], 40))\n",
        "\n",
        "network1 = hopf.hopfield_net(256)\n",
        "network1.set_patterns(letters)"
      ]
    },
    {
      "cell_type": "markdown",
      "source": [
        "# Dense associative memory\n",
        "\n",
        "Classic Hopfield network is working only with small number of patterns relative to number of neurons. Way improving capacity is new energy function of dense associative memory:\n",
        "\n",
        "$$E = -\\sum^S_{\\mu=1} (\\sum_i x_i^\\mu \\xi_i)^n$$\n",
        "where *n* is integer. With *n=2* it is just classic Hopfield network model.\n",
        "\n",
        "Neuron update is based on a question \"Is it beneficial to reduce energy for me to change my state?\". In math way:\n",
        "$$\\xi_i = sgn[E(\\xi_i=1) - E(\\xi_i = -1)]$$\n",
        "With implicit energy equation it is:\n",
        "$$\\xi_i = sgn[\\sum_{\\mu=1}^S(x_i^\\mu + \\sum_{j \\neq i}x_j^\\mu \\xi_j)^n - (-x_i^\\mu + \\sum_{j \\neq i}x_j^\\mu \\xi_j)]$$\n",
        "\n",
        "This new equation increases capacity so much so that it exceeds the number of neurons.\n",
        "\n",
        "Consider 49 patterns:"
      ],
      "metadata": {
        "id": "Sb8YePAAUxmg"
      }
    },
    {
      "cell_type": "code",
      "source": [
        "fig, axes = plt.subplots(7, 7, figsize=(12,12))\n",
        "\n",
        "for i in range(len(network1.patterns)):\n",
        "  row, col = i // 7, i % 7\n",
        "  axes[row, col].imshow(network1.patterns[i].reshape(16, 16), cmap='inferno')\n",
        "  axes[row, col].axis('off')\n",
        "plt.show()"
      ],
      "metadata": {
        "colab": {
          "base_uri": "https://localhost:8080/",
          "height": 741
        },
        "id": "zizqhNgdTUa3",
        "outputId": "9aebfbca-e5ea-4958-cefc-7c2739e089f9"
      },
      "execution_count": 14,
      "outputs": [
        {
          "output_type": "display_data",
          "data": {
            "text/plain": [
              "<Figure size 1200x1200 with 49 Axes>"
            ],
            "image/png": "[encoded data removed]"
          },
          "metadata": {}
        }
      ]
    },
    {
      "cell_type": "markdown",
      "source": [
        "Distorted images of patterns is test dataset:"
      ],
      "metadata": {
        "id": "UFooo0vrU-IZ"
      }
    },
    {
      "cell_type": "code",
      "source": [
        "fig, axes = plt.subplots(7, 7, figsize=(12,12))\n",
        "\n",
        "for i in range(len(noised_data)):\n",
        "  row, col = i // 7, i % 7\n",
        "  axes[row, col].imshow(noised_data[i].reshape(16, 16), cmap='inferno')\n",
        "  axes[row, col].axis('off')\n",
        "plt.show()"
      ],
      "metadata": {
        "colab": {
          "base_uri": "https://localhost:8080/",
          "height": 741
        },
        "id": "6nQMdlHQU7_0",
        "outputId": "825fb9a7-94dd-4e00-d7b8-73db85c00d8e"
      },
      "execution_count": 15,
      "outputs": [
        {
          "output_type": "display_data",
          "data": {
            "text/plain": [
              "<Figure size 1200x1200 with 49 Axes>"
            ],
            "image/png": "[encoded data removed]"
          },
          "metadata": {}
        }
      ]
    },
    {
      "cell_type": "markdown",
      "source": [
        "Now results of new model:"
      ],
      "metadata": {
        "id": "RN-2IPQ9VCTD"
      }
    },
    {
      "cell_type": "code",
      "source": [
        "fig, axes = plt.subplots(7, 7, figsize=(12,12))\n",
        "\n",
        "for i in range(len(noised_data)):\n",
        "  result = network1.dense_mem_test(noised_data[i],20,8)\n",
        "  row, col = i // 7, i % 7\n",
        "  axes[row, col].imshow(result.reshape(16, 16), cmap='inferno')\n",
        "  axes[row, col].axis('off')\n",
        "plt.show()"
      ],
      "metadata": {
        "colab": {
          "base_uri": "https://localhost:8080/",
          "height": 1000
        },
        "id": "KnoDpqP3VCnF",
        "outputId": "cd6fe069-a8ca-4a62-c567-759568a0f8e2"
      },
      "execution_count": 16,
      "outputs": [
        {
          "output_type": "stream",
          "name": "stdout",
          "text": [
            "Iteration 0, energy: -150.60498541773512\n",
            "Iteration 1, energy: -150.60498541773512\n",
            "Completed in 1 iterations (network stable), error: 0\n",
            "Iteration 0, energy: -4.522210754825416\n",
            "Iteration 1, energy: -4.522210754825416\n",
            "Completed in 1 iterations (network stable), error: 0\n",
            "Iteration 0, energy: 49.399146126705574\n",
            "Iteration 1, energy: 49.399146126705574\n",
            "Completed in 1 iterations (network stable), error: 0\n",
            "Iteration 0, energy: 6.998692823187078\n",
            "Iteration 1, energy: 6.998692823187078\n",
            "Completed in 1 iterations (network stable), error: 0\n",
            "Iteration 0, energy: 4.9626481984008715\n",
            "Iteration 1, energy: 4.9626481984008715\n",
            "Completed in 1 iterations (network stable), error: 0\n",
            "Iteration 0, energy: 83.11390383791436\n",
            "Iteration 1, energy: 83.11390383791436\n",
            "Completed in 1 iterations (network stable), error: 0\n",
            "Iteration 0, energy: 5.027983207153142\n",
            "Iteration 1, energy: 5.027983207153142\n",
            "Completed in 1 iterations (network stable), error: 0\n",
            "Iteration 0, energy: 53.01558134741305\n",
            "Iteration 1, energy: 53.01558134741305\n",
            "Completed in 1 iterations (network stable), error: 0\n",
            "Iteration 0, energy: -110.09570779583618\n",
            "Iteration 1, energy: -110.09570779583618\n",
            "Completed in 1 iterations (network stable), error: 0\n",
            "Iteration 0, energy: 93.48900906873776\n",
            "Iteration 1, energy: 93.48900906873776\n",
            "Completed in 1 iterations (network stable), error: 0\n",
            "Iteration 0, energy: 125.56824639617142\n",
            "Iteration 1, energy: 125.56824639617142\n",
            "Completed in 1 iterations (network stable), error: 0\n",
            "Iteration 0, energy: 15.084688827525675\n",
            "Iteration 1, energy: 15.084688827525675\n",
            "Completed in 1 iterations (network stable), error: 0\n",
            "Iteration 0, energy: 161.65335177137965\n",
            "Iteration 1, energy: 161.65335177137965\n",
            "Completed in 1 iterations (network stable), error: 0\n",
            "Iteration 0, energy: 104.58430750719619\n",
            "Iteration 1, energy: 104.58430750719619\n",
            "Completed in 1 iterations (network stable), error: 0\n",
            "Iteration 0, energy: 20.75375804089913\n",
            "Iteration 1, energy: 20.75375804089913\n",
            "Completed in 1 iterations (network stable), error: 0\n",
            "Iteration 0, energy: -120.35027454294934\n",
            "Iteration 1, energy: -120.35027454294934\n",
            "Completed in 1 iterations (network stable), error: 0\n",
            "Iteration 0, energy: -31.241193082523502\n",
            "Iteration 1, energy: -31.241193082523502\n",
            "Completed in 1 iterations (network stable), error: 0\n",
            "Iteration 0, energy: -121.31815929694395\n",
            "Iteration 1, energy: -121.31815929694395\n",
            "Completed in 1 iterations (network stable), error: 0\n",
            "Iteration 0, energy: -11.136763796029825\n",
            "Iteration 1, energy: -11.136763796029825\n",
            "Completed in 1 iterations (network stable), error: 0\n",
            "Iteration 0, energy: -15.000757625727864\n",
            "Iteration 1, energy: -15.000757625727864\n",
            "Completed in 1 iterations (network stable), error: 0\n",
            "Iteration 0, energy: -246.725598428023\n",
            "Iteration 1, energy: -246.725598428023\n",
            "Completed in 1 iterations (network stable), error: 0\n",
            "Iteration 0, energy: 13.643939178645772\n",
            "Iteration 1, energy: 13.643939178645772\n",
            "Completed in 1 iterations (network stable), error: 0\n",
            "Iteration 0, energy: -14.084649805703837\n",
            "Iteration 1, energy: -14.084649805703837\n",
            "Completed in 1 iterations (network stable), error: 0\n",
            "Iteration 0, energy: -90.88908080881029\n",
            "Iteration 1, energy: -90.88908080881029\n",
            "Completed in 1 iterations (network stable), error: 0\n",
            "Iteration 0, energy: -52.26087811984555\n",
            "Iteration 1, energy: -52.26087811984555\n",
            "Completed in 1 iterations (network stable), error: 0\n",
            "Iteration 0, energy: 113.96207149504686\n",
            "Iteration 1, energy: 113.96207149504686\n",
            "Completed in 1 iterations (network stable), error: 0\n",
            "Iteration 0, energy: -0.6392922708470579\n",
            "Iteration 1, energy: -0.6392922708470579\n",
            "Completed in 1 iterations (network stable), error: 0\n",
            "Iteration 0, energy: -30.45257154859273\n",
            "Iteration 1, energy: -30.45257154859273\n",
            "Completed in 1 iterations (network stable), error: 0\n",
            "Iteration 0, energy: -55.4456908215305\n",
            "Iteration 1, energy: -55.4456908215305\n",
            "Completed in 1 iterations (network stable), error: 0\n",
            "Iteration 0, energy: -149.46951522356193\n",
            "Iteration 1, energy: -149.46951522356193\n",
            "Completed in 1 iterations (network stable), error: 0\n",
            "Iteration 0, energy: 68.54138043139103\n",
            "Iteration 1, energy: 68.54138043139103\n",
            "Completed in 1 iterations (network stable), error: 0\n",
            "Iteration 0, energy: -127.11367984490155\n",
            "Iteration 1, energy: -127.11367984490155\n",
            "Completed in 1 iterations (network stable), error: 0\n",
            "Iteration 0, energy: -121.38656652516005\n",
            "Iteration 1, energy: -121.38656652516005\n",
            "Completed in 1 iterations (network stable), error: 0\n",
            "Iteration 0, energy: -18.59878574850007\n",
            "Iteration 1, energy: -18.59878574850007\n",
            "Completed in 1 iterations (network stable), error: 0\n",
            "Iteration 0, energy: -28.51387294940139\n",
            "Iteration 1, energy: -28.51387294940139\n",
            "Completed in 1 iterations (network stable), error: 0\n",
            "Iteration 0, energy: -65.87173338912149\n",
            "Iteration 1, energy: -65.87173338912149\n",
            "Completed in 1 iterations (network stable), error: 0\n",
            "Iteration 0, energy: 34.723755749768536\n",
            "Iteration 1, energy: 34.723755749768536\n",
            "Completed in 1 iterations (network stable), error: 0\n",
            "Iteration 0, energy: 118.39307884873091\n",
            "Iteration 1, energy: 118.39307884873091\n",
            "Completed in 1 iterations (network stable), error: 0\n",
            "Iteration 0, energy: 13.132300058857947\n",
            "Iteration 1, energy: 13.132300058857947\n",
            "Completed in 1 iterations (network stable), error: 0\n",
            "Iteration 0, energy: -32.78610020432288\n",
            "Iteration 1, energy: -32.78610020432288\n",
            "Completed in 1 iterations (network stable), error: 0\n",
            "Iteration 0, energy: 51.899137318061506\n",
            "Iteration 1, energy: 51.899137318061506\n",
            "Completed in 1 iterations (network stable), error: 0\n",
            "Iteration 0, energy: 9.266465043362025\n",
            "Iteration 1, energy: 9.266465043362025\n",
            "Completed in 1 iterations (network stable), error: 0\n",
            "Iteration 0, energy: 163.85192304352734\n",
            "Iteration 1, energy: 163.85192304352734\n",
            "Completed in 1 iterations (network stable), error: 0\n",
            "Iteration 0, energy: -57.0995515401371\n",
            "Iteration 1, energy: -57.0995515401371\n",
            "Completed in 1 iterations (network stable), error: 0\n",
            "Iteration 0, energy: 36.377301850108786\n",
            "Iteration 1, energy: 36.377301850108786\n",
            "Completed in 1 iterations (network stable), error: 0\n",
            "Iteration 0, energy: -74.65759101775257\n",
            "Iteration 1, energy: -74.65759101775257\n",
            "Completed in 1 iterations (network stable), error: 0\n",
            "Iteration 0, energy: 61.05346642801686\n",
            "Iteration 1, energy: 61.05346642801686\n",
            "Completed in 1 iterations (network stable), error: 0\n",
            "Iteration 0, energy: -48.54978172624498\n",
            "Iteration 1, energy: -48.54978172624498\n",
            "Completed in 1 iterations (network stable), error: 0\n",
            "Iteration 0, energy: 89.58611409729029\n",
            "Iteration 1, energy: 89.58611409729029\n",
            "Completed in 1 iterations (network stable), error: 0\n"
          ]
        },
        {
          "output_type": "display_data",
          "data": {
            "text/plain": [
              "<Figure size 1200x1200 with 49 Axes>"
            ],
            "image/png": "[encoded data removed]"
          },
          "metadata": {}
        }
      ]
    },
    {
      "cell_type": "markdown",
      "source": [
        "It takes quite a lot of time but patterns were recalled perfectly.\n",
        "\n",
        "Harder task, second test dataset is set of patterns with 68.75% of neurons cut:"
      ],
      "metadata": {
        "id": "q6sqop5qVF5d"
      }
    },
    {
      "cell_type": "code",
      "source": [
        "fig, axes = plt.subplots(7, 7, figsize=(12,12))\n",
        "\n",
        "for i in range(len(noised_data1)):\n",
        "  row, col = i // 7, i % 7\n",
        "  axes[row, col].imshow(hopf.cut(noised_data1[i],176).reshape(16, 16), cmap='inferno')\n",
        "  axes[row, col].axis('off')\n",
        "plt.show()"
      ],
      "metadata": {
        "id": "E7UOmd7iVGOi",
        "colab": {
          "base_uri": "https://localhost:8080/",
          "height": 741
        },
        "outputId": "8afa84af-8faa-4f1b-f1d5-36dedd4ed13b"
      },
      "execution_count": 17,
      "outputs": [
        {
          "output_type": "display_data",
          "data": {
            "text/plain": [
              "<Figure size 1200x1200 with 49 Axes>"
            ],
            "image/png": "[encoded data removed]"
          },
          "metadata": {}
        }
      ]
    },
    {
      "cell_type": "markdown",
      "source": [
        "Network results:"
      ],
      "metadata": {
        "id": "qDxChQ9_VPzx"
      }
    },
    {
      "cell_type": "code",
      "source": [
        "fig, axes = plt.subplots(7, 7, figsize=(12,12))\n",
        "\n",
        "for i in range(len(noised_data1)):\n",
        "  result = network1.dense_mem_test(hopf.cut(noised_data1[i],176),20,8)\n",
        "  row, col = i // 7, i % 7\n",
        "  axes[row, col].imshow(result.reshape(16, 16), cmap='inferno')\n",
        "  axes[row, col].axis('off')\n",
        "plt.show()"
      ],
      "metadata": {
        "id": "v9qIUE-lVQIk",
        "colab": {
          "base_uri": "https://localhost:8080/",
          "height": 1000
        },
        "outputId": "b3aa2578-9907-4027-e218-dfb666ea5700"
      },
      "execution_count": 18,
      "outputs": [
        {
          "output_type": "stream",
          "name": "stdout",
          "text": [
            "Iteration 0, energy: -150.60498541773512\n",
            "Iteration 1, energy: -150.60498541773512\n",
            "Completed in 1 iterations (network stable), error: 0\n",
            "Iteration 0, energy: -4.522210754825416\n",
            "Iteration 1, energy: -4.522210754825416\n",
            "Completed in 1 iterations (network stable), error: 0\n",
            "Iteration 0, energy: 49.399146126705574\n",
            "Iteration 1, energy: 49.399146126705574\n",
            "Completed in 1 iterations (network stable), error: 0\n",
            "Iteration 0, energy: 28.9501263178665\n",
            "Iteration 1, energy: 6.998692823187078\n",
            "Iteration 2, energy: 6.998692823187078\n",
            "Completed in 2 iterations (network stable), error: 0\n",
            "Iteration 0, energy: 4.9626481984008715\n",
            "Iteration 1, energy: 4.9626481984008715\n",
            "Completed in 1 iterations (network stable), error: 0\n",
            "Iteration 0, energy: 80.42838291412534\n",
            "Iteration 1, energy: 83.11390383791436\n",
            "Iteration 2, energy: 83.11390383791436\n",
            "Completed in 2 iterations (network stable), error: 0\n",
            "Iteration 0, energy: 2.4433819558492473\n",
            "Iteration 1, energy: 5.027983207153142\n",
            "Iteration 2, energy: 5.027983207153142\n",
            "Completed in 2 iterations (network stable), error: 0\n",
            "Iteration 0, energy: 53.01558134741305\n",
            "Iteration 1, energy: 53.01558134741305\n",
            "Completed in 1 iterations (network stable), error: 0\n",
            "Iteration 0, energy: -110.79401645262138\n",
            "Iteration 1, energy: -110.09570779583618\n",
            "Iteration 2, energy: -110.09570779583618\n",
            "Completed in 2 iterations (network stable), error: 0\n",
            "Iteration 0, energy: 93.48900906873776\n",
            "Iteration 1, energy: 93.48900906873776\n",
            "Completed in 1 iterations (network stable), error: 0\n",
            "Iteration 0, energy: 124.78398904928899\n",
            "Iteration 1, energy: 125.56824639617142\n",
            "Iteration 2, energy: 125.56824639617142\n",
            "Completed in 2 iterations (network stable), error: 0\n",
            "Iteration 0, energy: 30.526141846077994\n",
            "Iteration 1, energy: 15.084688827525675\n",
            "Iteration 2, energy: 15.084688827525675\n",
            "Completed in 2 iterations (network stable), error: 0\n",
            "Iteration 0, energy: 161.65335177137965\n",
            "Iteration 1, energy: 161.65335177137965\n",
            "Completed in 1 iterations (network stable), error: 0\n",
            "Iteration 0, energy: 104.58430750719619\n",
            "Iteration 1, energy: 104.58430750719619\n",
            "Completed in 1 iterations (network stable), error: 0\n",
            "Iteration 0, energy: 7.166400493143423\n",
            "Iteration 1, energy: 20.75375804089913\n",
            "Iteration 2, energy: 20.75375804089913\n",
            "Completed in 2 iterations (network stable), error: 0\n",
            "Iteration 0, energy: -126.00016175073745\n",
            "Iteration 1, energy: -120.35027454294934\n",
            "Iteration 2, energy: -120.35027454294934\n",
            "Completed in 2 iterations (network stable), error: 0\n",
            "Iteration 0, energy: -31.241193082523502\n",
            "Iteration 1, energy: -31.241193082523502\n",
            "Completed in 1 iterations (network stable), error: 0\n",
            "Iteration 0, energy: -121.31815929694395\n",
            "Iteration 1, energy: -121.31815929694395\n",
            "Completed in 1 iterations (network stable), error: 0\n",
            "Iteration 0, energy: -11.136763796029825\n",
            "Iteration 1, energy: -11.136763796029825\n",
            "Completed in 1 iterations (network stable), error: 0\n",
            "Iteration 0, energy: -15.000757625727864\n",
            "Iteration 1, energy: -15.000757625727864\n",
            "Completed in 1 iterations (network stable), error: 0\n",
            "Iteration 0, energy: -246.725598428023\n",
            "Iteration 1, energy: -246.725598428023\n",
            "Completed in 1 iterations (network stable), error: 0\n",
            "Iteration 0, energy: 13.643939178645772\n",
            "Iteration 1, energy: 13.643939178645772\n",
            "Completed in 1 iterations (network stable), error: 0\n",
            "Iteration 0, energy: -14.084649805703837\n",
            "Iteration 1, energy: -14.084649805703837\n",
            "Completed in 1 iterations (network stable), error: 0\n",
            "Iteration 0, energy: -90.88908080881029\n",
            "Iteration 1, energy: -90.88908080881029\n",
            "Completed in 1 iterations (network stable), error: 0\n",
            "Iteration 0, energy: -32.59414431117656\n",
            "Iteration 1, energy: -52.26087811984555\n",
            "Iteration 2, energy: -52.26087811984555\n",
            "Completed in 2 iterations (network stable), error: 0\n",
            "Iteration 0, energy: 113.96207149504686\n",
            "Iteration 1, energy: 113.96207149504686\n",
            "Completed in 1 iterations (network stable), error: 0\n",
            "Iteration 0, energy: -0.6392922708470579\n",
            "Iteration 1, energy: -0.6392922708470579\n",
            "Completed in 1 iterations (network stable), error: 0\n",
            "Iteration 0, energy: -30.45257154859273\n",
            "Iteration 1, energy: -30.45257154859273\n",
            "Completed in 1 iterations (network stable), error: 0\n",
            "Iteration 0, energy: -121.94714908753636\n",
            "Iteration 1, energy: -92.44118252169291\n",
            "Iteration 2, energy: -55.4456908215305\n",
            "Iteration 3, energy: -55.4456908215305\n",
            "Completed in 3 iterations (network stable), error: 0\n",
            "Iteration 0, energy: -149.46951522356193\n",
            "Iteration 1, energy: -149.46951522356193\n",
            "Completed in 1 iterations (network stable), error: 0\n",
            "Iteration 0, energy: 19.181333007530938\n",
            "Iteration 1, energy: 68.54138043139103\n",
            "Iteration 2, energy: 68.54138043139103\n",
            "Completed in 2 iterations (network stable), error: 0\n",
            "Iteration 0, energy: -127.11367984490155\n",
            "Iteration 1, energy: -127.11367984490155\n",
            "Completed in 1 iterations (network stable), error: 0\n",
            "Iteration 0, energy: -104.64106591516645\n",
            "Iteration 1, energy: -121.38656652516005\n",
            "Iteration 2, energy: -121.38656652516005\n",
            "Completed in 2 iterations (network stable), error: 0\n",
            "Iteration 0, energy: -18.59878574850007\n",
            "Iteration 1, energy: -18.59878574850007\n",
            "Completed in 1 iterations (network stable), error: 0\n",
            "Iteration 0, energy: 3.7714161401782107\n",
            "Iteration 1, energy: -28.51387294940139\n",
            "Iteration 2, energy: -28.51387294940139\n",
            "Completed in 2 iterations (network stable), error: 0\n",
            "Iteration 0, energy: -65.87173338912149\n",
            "Iteration 1, energy: -65.87173338912149\n",
            "Completed in 1 iterations (network stable), error: 0\n",
            "Iteration 0, energy: 34.723755749768536\n",
            "Iteration 1, energy: 34.723755749768536\n",
            "Completed in 1 iterations (network stable), error: 0\n",
            "Iteration 0, energy: 96.42378018361426\n",
            "Iteration 1, energy: 118.39307884873091\n",
            "Iteration 2, energy: 118.39307884873091\n",
            "Completed in 2 iterations (network stable), error: 0\n",
            "Iteration 0, energy: 13.132300058857947\n",
            "Iteration 1, energy: 13.132300058857947\n",
            "Completed in 1 iterations (network stable), error: 0\n",
            "Iteration 0, energy: -32.78610020432288\n",
            "Iteration 1, energy: -32.78610020432288\n",
            "Completed in 1 iterations (network stable), error: 0\n",
            "Iteration 0, energy: 39.711578875373036\n",
            "Iteration 1, energy: 52.87609910320558\n",
            "Iteration 2, energy: 51.899137318061506\n",
            "Iteration 3, energy: 51.899137318061506\n",
            "Completed in 3 iterations (network stable), error: 0\n",
            "Iteration 0, energy: -63.12578883315942\n",
            "Iteration 1, energy: 9.266465043362025\n",
            "Iteration 2, energy: 9.266465043362025\n",
            "Completed in 2 iterations (network stable), error: 0\n",
            "Iteration 0, energy: 131.2641202552611\n",
            "Iteration 1, energy: 163.85192304352734\n",
            "Iteration 2, energy: 163.85192304352734\n",
            "Completed in 2 iterations (network stable), error: 0\n",
            "Iteration 0, energy: -98.70477007903105\n",
            "Iteration 1, energy: -57.0995515401371\n",
            "Iteration 2, energy: -57.0995515401371\n",
            "Completed in 2 iterations (network stable), error: 0\n",
            "Iteration 0, energy: 15.745749721173418\n",
            "Iteration 1, energy: 27.944975415017645\n",
            "Iteration 2, energy: 6.960189315293972\n",
            "Iteration 3, energy: -48.81479739787514\n",
            "Iteration 4, energy: 55.00719452902286\n",
            "Iteration 5, energy: 70.64161223407535\n",
            "Iteration 6, energy: 83.11390383791436\n",
            "Iteration 7, energy: 83.11390383791436\n",
            "Completed in 7 iterations (network stable), error: 0\n",
            "Iteration 0, energy: -74.65759101775257\n",
            "Iteration 1, energy: -74.65759101775257\n",
            "Completed in 1 iterations (network stable), error: 0\n",
            "Iteration 0, energy: 61.05346642801686\n",
            "Iteration 1, energy: 61.05346642801686\n",
            "Completed in 1 iterations (network stable), error: 0\n",
            "Iteration 0, energy: -45.24788507625415\n",
            "Iteration 1, energy: -48.54978172624498\n",
            "Iteration 2, energy: -48.54978172624498\n",
            "Completed in 2 iterations (network stable), error: 0\n",
            "Iteration 0, energy: 89.58611409729029\n",
            "Iteration 1, energy: 89.58611409729029\n",
            "Completed in 1 iterations (network stable), error: 0\n"
          ]
        },
        {
          "output_type": "display_data",
          "data": {
            "text/plain": [
              "<Figure size 1200x1200 with 49 Axes>"
            ],
            "image/png": "[encoded data removed]"
          },
          "metadata": {}
        }
      ]
    },
    {
      "cell_type": "markdown",
      "source": [
        "This time patterns were perfectly recalled too."
      ],
      "metadata": {
        "id": "Wongd88aEZzw"
      }
    }
  ]
}