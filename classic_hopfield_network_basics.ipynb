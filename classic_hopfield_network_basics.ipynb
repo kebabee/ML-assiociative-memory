{
  "nbformat": 4,
  "nbformat_minor": 0,
  "metadata": {
    "colab": {
      "provenance": [],
      "include_colab_link": true
    },
    "kernelspec": {
      "name": "python3",
      "display_name": "Python 3"
    },
    "language_info": {
      "name": "python"
    }
  },
  "cells": [
    {
      "cell_type": "markdown",
      "metadata": {
        "id": "view-in-github",
        "colab_type": "text"
      },
      "source": [
        "<a href=\"https://colab.research.google.com/github/kebabee/ML-assiociative-memory/blob/main/classic_hopfield_network_basics.ipynb\" target=\"_parent\"><img src=\"https://colab.research.google.com/assets/colab-badge.svg\" alt=\"Open In Colab\"/></a>"
      ]
    },
    {
      "cell_type": "markdown",
      "source": [
        "### Importing data (irrelevant)"
      ],
      "metadata": {
        "id": "gB914CmS4B9i"
      }
    },
    {
      "cell_type": "code",
      "source": [
        "import matplotlib.pyplot as plt\n",
        "import numpy as np\n",
        "import requests\n",
        "import zipfile\n",
        "from io import BytesIO\n",
        "from PIL import Image\n",
        "\n",
        "response = requests.get(\"https://raw.githubusercontent.com/kebabee/ML-assiociative-memory/bfa215afd00124cf2c32b26aea42381588e75982/hopfield_header.py\")\n",
        "\n",
        "if response.status_code == 200:\n",
        "    with open('hopfield_header.py', 'wb') as f:\n",
        "        f.write(response.content)\n",
        "    print(\"hopfield_header.py downloaded successfully.\")\n",
        "else:\n",
        "    print(\"Failed to download hopfield_header.py.\")\n",
        "\n",
        "response = requests.get(\"https://github.com/kebabee/ML-assiociative-memory/raw/08eb242de52b29dd9ae769b8bb4af3714a884bab/letters/letters.zip\")\n",
        "\n",
        "if response.status_code == 200:\n",
        "    zip_content = BytesIO(response.content)\n",
        "    with zipfile.ZipFile(zip_content, 'r') as zip_ref:\n",
        "        zip_ref.extractall('letters')\n",
        "    print(\"Letters extraction successful.\")\n",
        "else:\n",
        "    print(\"Failed to download the zip file.\")\n",
        "\n",
        "import hopfield_header as hopf\n",
        "\n",
        "A = np.where(np.array(Image.open('letters/A.png'))[:,:,0]<128,1,-1).reshape(-1)\n",
        "N = np.where(np.array(Image.open('letters/N.png'))[:,:,0]<128,1,-1).reshape(-1)\n",
        "O = np.where(np.array(Image.open('letters/O.png'))[:,:,0]<128,1,-1).reshape(-1)\n",
        "Z = np.where(np.array(Image.open('letters/Z.png'))[:,:,0]<128,1,-1).reshape(-1)\n",
        "\n",
        "letters_patterns = [A,N,O,Z]\n",
        "\n",
        "noised_data = [\n",
        "  hopf.noise(A, 20),\n",
        "  hopf.noise(N, 20),\n",
        "  hopf.noise(O, 20),\n",
        "  hopf.noise(Z, 20),\n",
        "  hopf.noise(A, 40),\n",
        "  hopf.noise(N, 40),\n",
        "  hopf.noise(O, 40),\n",
        "  hopf.noise(Z, 40),\n",
        "  hopf.noise(A, 100),\n",
        "  hopf.noise(N, 100),\n",
        "  hopf.noise(O, 100),\n",
        "  hopf.noise(Z, 100),\n",
        "  hopf.noise(-A, 20),\n",
        "  hopf.noise(-N, 20),\n",
        "  hopf.noise(-O, 20),\n",
        "  hopf.noise(-Z, 20)\n",
        "]"
      ],
      "metadata": {
        "colab": {
          "base_uri": "https://localhost:8080/"
        },
        "id": "AZjZMZtbZ-4z",
        "outputId": "e198d518-759c-435a-9ecf-9b2df1fb39b3"
      },
      "execution_count": 2,
      "outputs": [
        {
          "output_type": "stream",
          "name": "stdout",
          "text": [
            "hopfield_header.py downloaded successfully.\n",
            "Letters extraction successful.\n"
          ]
        }
      ]
    },
    {
      "cell_type": "markdown",
      "source": [
        "# Classic Hopfield network:\n",
        "\n",
        "The calssic Hopfield Network is a recurrent neural network model, every neuron is connected to each other and send information in both ways.\n",
        "\n",
        "Information processed by network is vector with the same nuber of elements as number of neurons in network. There is no commonly known input-hidden-output layers structure, the network is input and output layer by itself. The update rule of neuron is given by:\n",
        "$$\\xi_i^{new} = sgn[\\sum_j (W_{ij} \\xi_j)]$$\n",
        "where $\\xi_i$ is state of neuron and *W* is connections weights matrix. Rules of this matrix are:\n",
        "$$W_{ij}=\\frac{1}{S} \\sum_{\\mu=1}^S \\sum_{i,j}^N x_i^\\mu x_j^\\mu$$\n",
        "$$W_{ij}=W_{ji}$$\n",
        "$$W_{ii}=0$$\n",
        "Where *x* is pattern vector to remember and *S* is number of patterns.\n",
        "\n",
        "Whole model have some similar elements with Ising model, so classic Hopfield Network can be described by his own energy function:\n",
        "$$E = -\\frac{1}{2}\\sum^N_{i,j} W_{ij} \\xi_i \\xi_j$$\n",
        "\n",
        "In every update of neuron the energy is lowered or stays the same. The goal is convergence to energy minima, where most similar pattern is \"stored\".\n",
        "\n",
        "Consider 256-neuron with given patterns:\n"
      ],
      "metadata": {
        "id": "Oqi3GpPJP5Zt"
      }
    },
    {
      "cell_type": "code",
      "source": [
        "network = hopf.hopfield_net(256)\n",
        "network.learn([A,N,O,Z])\n",
        "network.set_patterns([A,N,O,Z,-A,-N,-O,-Z]) # only for plotting\n",
        "\n",
        "fig, axes = plt.subplots(2, 4, figsize=(8, 4))\n",
        "\n",
        "for i in range(len(network.patterns)):\n",
        "    row, col = i // 4, i % 4\n",
        "    axes[row, col].imshow(network.patterns[i].reshape(16, 16), cmap='inferno')\n",
        "    axes[row, col].axis('off')\n",
        "plt.show()"
      ],
      "metadata": {
        "colab": {
          "base_uri": "https://localhost:8080/",
          "height": 339
        },
        "id": "7Sku1ZDaNcpQ",
        "outputId": "b994d0c6-ed0b-407d-fbdc-03cf500dfd0b"
      },
      "execution_count": 8,
      "outputs": [
        {
          "output_type": "display_data",
          "data": {
            "text/plain": [
              "<Figure size 800x400 with 8 Axes>"
            ],
            "image/png": "[encoded data removed]"
          },
          "metadata": {}
        }
      ]
    },
    {
      "cell_type": "markdown",
      "source": [
        "Weights are symmetrical, so network remembers given patterns and their mirror images. We can test the network with this dataset:"
      ],
      "metadata": {
        "id": "KfwHszWbQCzK"
      }
    },
    {
      "cell_type": "code",
      "source": [
        "fig, axes = plt.subplots(4, 4, figsize=(8, 8))\n",
        "\n",
        "for i in range(len(noised_data)):\n",
        "    row, col = i // 4, i % 4\n",
        "    axes[row, col].imshow(noised_data[i].reshape(16, 16), cmap='inferno')\n",
        "    axes[row, col].axis('off')\n",
        "plt.show()"
      ],
      "metadata": {
        "colab": {
          "base_uri": "https://localhost:8080/",
          "height": 653
        },
        "id": "2uRi3aRcPbqa",
        "outputId": "1419a91b-2773-4c0f-c445-eca7953e442f"
      },
      "execution_count": 7,
      "outputs": [
        {
          "output_type": "display_data",
          "data": {
            "text/plain": [
              "<Figure size 800x800 with 16 Axes>"
            ],
            "image/png": "[encoded data removed]"
          },
          "metadata": {}
        }
      ]
    },
    {
      "cell_type": "markdown",
      "source": [
        "The results of network:"
      ],
      "metadata": {
        "id": "JLzcKlrrQJDG"
      }
    },
    {
      "cell_type": "code",
      "source": [
        "fig, axes = plt.subplots(4, 4, figsize=(8, 8))\n",
        "\n",
        "for i in range(len(noised_data)):\n",
        "  result = network.test(noised_data[i])\n",
        "  row, col = i // 4, i % 4\n",
        "  axes[row, col].imshow(result.reshape(16, 16), cmap='inferno')\n",
        "  axes[row, col].axis('off')\n",
        "plt.show()"
      ],
      "metadata": {
        "colab": {
          "base_uri": "https://localhost:8080/",
          "height": 1000
        },
        "id": "i-s4Qp8pPhOO",
        "outputId": "7c2065dd-7dc9-41f3-e3b8-0e7e0f348dbc"
      },
      "execution_count": 10,
      "outputs": [
        {
          "output_type": "stream",
          "name": "stdout",
          "text": [
            "Iteration 0, energy: -35.16974360422694\n",
            "Iteration 1, energy: -35.16974360422694\n",
            "Completed in 1 iterations (network stable), error: 0\n",
            "Iteration 0, energy: -36.1012800793473\n",
            "Iteration 1, energy: -36.1012800793473\n",
            "Completed in 1 iterations (network stable), error: 0\n",
            "Iteration 0, energy: -34.029354755444544\n",
            "Iteration 1, energy: -34.029354755444544\n",
            "Completed in 1 iterations (network stable), error: 0\n",
            "Iteration 0, energy: -32.876705254006914\n",
            "Iteration 1, energy: -32.876705254006914\n",
            "Completed in 1 iterations (network stable), error: 0\n",
            "Iteration 0, energy: -35.16974360422694\n",
            "Iteration 1, energy: -35.16974360422694\n",
            "Completed in 1 iterations (network stable), error: 0\n",
            "Iteration 0, energy: -36.1012800793473\n",
            "Iteration 1, energy: -36.1012800793473\n",
            "Completed in 1 iterations (network stable), error: 0\n",
            "Iteration 0, energy: -34.029354755444544\n",
            "Iteration 1, energy: -34.029354755444544\n",
            "Completed in 1 iterations (network stable), error: 0\n",
            "Iteration 0, energy: -32.876705254006914\n",
            "Iteration 1, energy: -32.876705254006914\n",
            "Completed in 1 iterations (network stable), error: 0\n",
            "Iteration 0, energy: -33.547630323821174\n",
            "Iteration 1, energy: -33.77782068782239\n",
            "Iteration 2, energy: -35.16974360422694\n",
            "Iteration 3, energy: -35.16974360422694\n",
            "Completed in 3 iterations (network stable), error: 0\n",
            "Iteration 0, energy: -35.228259282039026\n",
            "Iteration 1, energy: -36.14574453825398\n",
            "Iteration 2, energy: -36.14574453825398\n",
            "Completed in 2 iterations (network stable), error: 24\n",
            "Iteration 0, energy: -34.029354755444544\n",
            "Iteration 1, energy: -34.029354755444544\n",
            "Completed in 1 iterations (network stable), error: 0\n",
            "Iteration 0, energy: -32.876705254006914\n",
            "Iteration 1, energy: -32.876705254006914\n",
            "Completed in 1 iterations (network stable), error: 0\n",
            "Iteration 0, energy: -35.16974360422694\n",
            "Iteration 1, energy: -35.16974360422694\n",
            "Completed in 1 iterations (network stable), error: 0\n",
            "Iteration 0, energy: -36.1012800793473\n",
            "Iteration 1, energy: -36.1012800793473\n",
            "Completed in 1 iterations (network stable), error: 0\n",
            "Iteration 0, energy: -34.029354755444544\n",
            "Iteration 1, energy: -34.029354755444544\n",
            "Completed in 1 iterations (network stable), error: 0\n",
            "Iteration 0, energy: -32.876705254006914\n",
            "Iteration 1, energy: -32.876705254006914\n",
            "Completed in 1 iterations (network stable), error: 0\n"
          ]
        },
        {
          "output_type": "display_data",
          "data": {
            "text/plain": [
              "<Figure size 800x800 with 16 Axes>"
            ],
            "image/png": "[encoded data removed]"
          },
          "metadata": {}
        }
      ]
    },
    {
      "cell_type": "markdown",
      "source": [
        "Third row usually gives example of mixed state - network developed local energy minima that do not correspond to any of images in training set."
      ],
      "metadata": {
        "id": "xjHK9mmHRFBU"
      }
    }
  ]
}